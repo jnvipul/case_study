{
 "cells": [
  {
   "cell_type": "code",
   "execution_count": 41,
   "metadata": {
    "scrolled": true
   },
   "outputs": [],
   "source": [
    "import numpy as np \n",
    "import pandas as pd\n",
    "\n",
    "from subprocess import check_output\n",
    "\n",
    "from sklearn.ensemble import RandomForestClassifier\n",
    "from sklearn.model_selection import train_test_split\n",
    "from sklearn.metrics import log_loss\n",
    "%matplotlib inline\n",
    "import statistics"
   ]
  },
  {
   "cell_type": "markdown",
   "metadata": {},
   "source": [
    "### Building Id analysis"
   ]
  },
  {
   "cell_type": "code",
   "execution_count": 3,
   "metadata": {},
   "outputs": [],
   "source": [
    "data_train = pd.read_json('data/train.json')\n",
    "train_building_ids = data_train['building_id'].tolist()"
   ]
  },
  {
   "cell_type": "code",
   "execution_count": 11,
   "metadata": {},
   "outputs": [],
   "source": [
    "data_test = pd.read_json('data/test.json')\n",
    "test_building_ids = data_test['building_id'].tolist()"
   ]
  },
  {
   "cell_type": "code",
   "execution_count": 33,
   "metadata": {},
   "outputs": [
    {
     "data": {
      "text/plain": [
       "12378"
      ]
     },
     "execution_count": 33,
     "metadata": {},
     "output_type": "execute_result"
    }
   ],
   "source": [
    "test_building_ids.count('0')"
   ]
  },
  {
   "cell_type": "code",
   "execution_count": 19,
   "metadata": {},
   "outputs": [
    {
     "data": {
      "text/plain": [
       "7585"
      ]
     },
     "execution_count": 19,
     "metadata": {},
     "output_type": "execute_result"
    }
   ],
   "source": [
    "# unique buidling ids in train set(~49k)\n",
    "len(set(train_building_ids))"
   ]
  },
  {
   "cell_type": "code",
   "execution_count": 20,
   "metadata": {},
   "outputs": [
    {
     "data": {
      "text/plain": [
       "9321"
      ]
     },
     "execution_count": 20,
     "metadata": {},
     "output_type": "execute_result"
    }
   ],
   "source": [
    "# unique buidling ids in train set(~74k)\n",
    "len(set(test_building_ids))"
   ]
  },
  {
   "cell_type": "code",
   "execution_count": 21,
   "metadata": {},
   "outputs": [
    {
     "data": {
      "text/plain": [
       "5271"
      ]
     },
     "execution_count": 21,
     "metadata": {},
     "output_type": "execute_result"
    }
   ],
   "source": [
    "# Common building Ids in train and test set\n",
    "len(set(train_building_ids) & set(test_building_ids))"
   ]
  },
  {
   "cell_type": "markdown",
   "metadata": {},
   "source": [
    "## Popular Features of home -  Analyses"
   ]
  },
  {
   "cell_type": "code",
   "execution_count": 24,
   "metadata": {},
   "outputs": [],
   "source": [
    "# Train data\n",
    "data = pd.read_json('data/train.json')\n",
    "train_features = data['features']\n",
    "from itertools import chain\n",
    "train_features = list(chain.from_iterable(train_features))\n",
    "s_train = set(train_features)"
   ]
  },
  {
   "cell_type": "code",
   "execution_count": 25,
   "metadata": {},
   "outputs": [],
   "source": [
    "#  Test data\n",
    "data = pd.read_json('data/test.json')\n",
    "test_features = data['features']\n",
    "from itertools import chain\n",
    "test_features = list(chain.from_iterable(test_features))\n",
    "s_test = set(test_features)"
   ]
  },
  {
   "cell_type": "code",
   "execution_count": 26,
   "metadata": {},
   "outputs": [
    {
     "data": {
      "text/plain": [
       "25"
      ]
     },
     "execution_count": 26,
     "metadata": {},
     "output_type": "execute_result"
    }
   ],
   "source": [
    "series_train = pd.Series(train_features)\n",
    "vc = series_train.value_counts()\n",
    "vc = vc[vc > 1000]\n",
    "len(vc)"
   ]
  },
  {
   "cell_type": "code",
   "execution_count": 27,
   "metadata": {},
   "outputs": [
    {
     "data": {
      "text/plain": [
       "25"
      ]
     },
     "execution_count": 27,
     "metadata": {},
     "output_type": "execute_result"
    }
   ],
   "source": [
    "series_test = pd.Series(test_features)\n",
    "test_vc = series_test.value_counts()\n",
    "test_vc = test_vc[test_vc > 1500]\n",
    "len(test_vc)"
   ]
  },
  {
   "cell_type": "code",
   "execution_count": 28,
   "metadata": {},
   "outputs": [
    {
     "data": {
      "text/plain": [
       "set()"
      ]
     },
     "execution_count": 28,
     "metadata": {},
     "output_type": "execute_result"
    }
   ],
   "source": [
    "set(vc.index.tolist()) - set(test_vc.index.tolist()) "
   ]
  },
  {
   "cell_type": "code",
   "execution_count": 29,
   "metadata": {},
   "outputs": [],
   "source": [
    "home_features = test_vc.index.tolist()"
   ]
  },
  {
   "cell_type": "code",
   "execution_count": 30,
   "metadata": {},
   "outputs": [],
   "source": [
    "home_features_col_names = ['has_' + (feature.replace(' ', '_')).lower() for feature in home_features]"
   ]
  },
  {
   "cell_type": "code",
   "execution_count": 31,
   "metadata": {},
   "outputs": [],
   "source": [
    "home_features_dict = dict(zip(home_features, home_features_col_names))"
   ]
  },
  {
   "cell_type": "code",
   "execution_count": 32,
   "metadata": {},
   "outputs": [
    {
     "data": {
      "text/plain": [
       "{'Elevator': 'has_elevator',\n",
       " 'Cats Allowed': 'has_cats_allowed',\n",
       " 'Hardwood Floors': 'has_hardwood_floors',\n",
       " 'Dogs Allowed': 'has_dogs_allowed',\n",
       " 'Doorman': 'has_doorman',\n",
       " 'Dishwasher': 'has_dishwasher',\n",
       " 'No Fee': 'has_no_fee',\n",
       " 'Laundry in Building': 'has_laundry_in_building',\n",
       " 'Fitness Center': 'has_fitness_center',\n",
       " 'Pre-War': 'has_pre-war',\n",
       " 'Laundry in Unit': 'has_laundry_in_unit',\n",
       " 'Roof Deck': 'has_roof_deck',\n",
       " 'Outdoor Space': 'has_outdoor_space',\n",
       " 'Dining Room': 'has_dining_room',\n",
       " 'High Speed Internet': 'has_high_speed_internet',\n",
       " 'Balcony': 'has_balcony',\n",
       " 'Swimming Pool': 'has_swimming_pool',\n",
       " 'Laundry In Building': 'has_laundry_in_building',\n",
       " 'New Construction': 'has_new_construction',\n",
       " 'Terrace': 'has_terrace',\n",
       " 'Exclusive': 'has_exclusive',\n",
       " 'Loft': 'has_loft',\n",
       " 'Garden/Patio': 'has_garden/patio',\n",
       " 'Wheelchair Access': 'has_wheelchair_access',\n",
       " 'Common Outdoor Space': 'has_common_outdoor_space'}"
      ]
     },
     "execution_count": 32,
     "metadata": {},
     "output_type": "execute_result"
    }
   ],
   "source": [
    "home_features_dict"
   ]
  },
  {
   "cell_type": "markdown",
   "metadata": {},
   "source": [
    "## Adresses - Display and Street"
   ]
  },
  {
   "cell_type": "code",
   "execution_count": 43,
   "metadata": {},
   "outputs": [],
   "source": [
    "data_train[['street_address', 'display_address']]\n",
    "data_train['len_display_address'] = data_train.display_address.apply(len)\n",
    "data_train['len_street_address'] = data_train.street_address.apply(len)"
   ]
  },
  {
   "cell_type": "code",
   "execution_count": 57,
   "metadata": {},
   "outputs": [
    {
     "data": {
      "text/plain": [
       "13.0"
      ]
     },
     "execution_count": 57,
     "metadata": {},
     "output_type": "execute_result"
    }
   ],
   "source": [
    "l = data_train['len_display_address'].tolist()\n",
    "l2 = data_train['len_street_address'].tolist()\n",
    "l.sort(reverse=True)\n",
    "l2.sort(reverse=True)\n",
    "statistics.median(l)\n"
   ]
  },
  {
   "cell_type": "code",
   "execution_count": 64,
   "metadata": {},
   "outputs": [
    {
     "data": {
      "text/plain": [
       "20    12457\n",
       "15     5350\n",
       "14     4975\n",
       "12     3743\n",
       "13     3633\n",
       "16     3471\n",
       "19     3409\n",
       "17     2955\n",
       "18     2372\n",
       "21     2304\n",
       "11     1680\n",
       "10      696\n",
       "8       365\n",
       "22      326\n",
       "23      311\n",
       "9       296\n",
       "24      256\n",
       "7       131\n",
       "25      129\n",
       "26       94\n",
       "6        49\n",
       "29       40\n",
       "32       38\n",
       "27       32\n",
       "30       30\n",
       "31       30\n",
       "28       29\n",
       "33       26\n",
       "36       17\n",
       "37       12\n",
       "34       11\n",
       "0        10\n",
       "43        9\n",
       "39        9\n",
       "35        8\n",
       "40        8\n",
       "41        6\n",
       "38        6\n",
       "42        4\n",
       "47        3\n",
       "52        3\n",
       "48        3\n",
       "49        2\n",
       "46        2\n",
       "54        2\n",
       "78        1\n",
       "44        1\n",
       "50        1\n",
       "4         1\n",
       "3         1\n",
       "45        1\n",
       "65        1\n",
       "64        1\n",
       "56        1\n",
       "63        1\n",
       "Name: len_street_address, dtype: int64"
      ]
     },
     "execution_count": 64,
     "metadata": {},
     "output_type": "execute_result"
    }
   ],
   "source": [
    "data_train['len_street_address'].value_counts()"
   ]
  },
  {
   "cell_type": "code",
   "execution_count": 60,
   "metadata": {},
   "outputs": [],
   "source": [
    "data_train = data_train.sort_values('len_street_address',ascending=False)"
   ]
  },
  {
   "cell_type": "code",
   "execution_count": 65,
   "metadata": {},
   "outputs": [
    {
     "data": {
      "text/html": [
       "<div>\n",
       "<style scoped>\n",
       "    .dataframe tbody tr th:only-of-type {\n",
       "        vertical-align: middle;\n",
       "    }\n",
       "\n",
       "    .dataframe tbody tr th {\n",
       "        vertical-align: top;\n",
       "    }\n",
       "\n",
       "    .dataframe thead th {\n",
       "        text-align: right;\n",
       "    }\n",
       "</style>\n",
       "<table border=\"1\" class=\"dataframe\">\n",
       "  <thead>\n",
       "    <tr style=\"text-align: right;\">\n",
       "      <th></th>\n",
       "      <th>street_address</th>\n",
       "      <th>display_address</th>\n",
       "    </tr>\n",
       "  </thead>\n",
       "  <tbody>\n",
       "    <tr>\n",
       "      <th>57884</th>\n",
       "      <td>Seacost Terrace #18M 1311 Brightwater Ave • Br...</td>\n",
       "      <td>Brightwater Ave Brighton Beach</td>\n",
       "    </tr>\n",
       "    <tr>\n",
       "      <th>80926</th>\n",
       "      <td>\\t338 W 77th St #4A (West End Ave &amp; Riverside ...</td>\n",
       "      <td>W 77th St Close to Riverside</td>\n",
       "    </tr>\n",
       "    <tr>\n",
       "      <th>7152</th>\n",
       "      <td>25 Broad St. (1BDRM10H_1bdrm) 810 sqft/ Gross ...</td>\n",
       "      <td>Broad St. (Financial District)</td>\n",
       "    </tr>\n",
       "    <tr>\n",
       "      <th>7031</th>\n",
       "      <td>236 E 36th St #4E (Third Ave &amp; Second Ave) Mur...</td>\n",
       "      <td>E 36th St</td>\n",
       "    </tr>\n",
       "    <tr>\n",
       "      <th>14727</th>\n",
       "      <td>145 Fourth Ave #17D (E 13th St &amp; E 14th St) Un...</td>\n",
       "      <td>Fourth Ave (E 13th St &amp; E 14th St) Union Square</td>\n",
       "    </tr>\n",
       "    <tr>\n",
       "      <th>111609</th>\n",
       "      <td>Yorkville, Upper East Side, Upper Manhattan, M...</td>\n",
       "      <td>First Avenue</td>\n",
       "    </tr>\n",
       "    <tr>\n",
       "      <th>67774</th>\n",
       "      <td>10 Hanover Sq. (stdo_HO_4I or 8B_Flex2BDRM) 66...</td>\n",
       "      <td>Financial District</td>\n",
       "    </tr>\n",
       "    <tr>\n",
       "      <th>27361</th>\n",
       "      <td>6718 14th Ave #3-R Dyker Heights, Brooklyn, NY...</td>\n",
       "      <td>14th Ave  Dyker Heights</td>\n",
       "    </tr>\n",
       "    <tr>\n",
       "      <th>90081</th>\n",
       "      <td>710 W 173rd St #25,(Fort Washington Ave &amp; Have...</td>\n",
       "      <td>W 173rd St</td>\n",
       "    </tr>\n",
       "    <tr>\n",
       "      <th>65373</th>\n",
       "      <td>620 W 171st St #4F, (Broadway &amp; Fort Washingto...</td>\n",
       "      <td>W 171st St</td>\n",
       "    </tr>\n",
       "    <tr>\n",
       "      <th>38524</th>\n",
       "      <td>310 West 148th Street, Apt. 3B, New York, NY 1...</td>\n",
       "      <td>310 West 148th Street, Apt. 3B</td>\n",
       "    </tr>\n",
       "    <tr>\n",
       "      <th>22496</th>\n",
       "      <td>45 Wall St. (STDOho910_3bdrm) sqft/ Gross rent AD</td>\n",
       "      <td>Wall St. (Financial District)</td>\n",
       "    </tr>\n",
       "    <tr>\n",
       "      <th>70711</th>\n",
       "      <td>354 Cathedral Pkwy (Columbus Ave &amp; Manhattan Ave)</td>\n",
       "      <td>Cathedral Pkwy (Columbus Ave &amp; Manhattan Ave)</td>\n",
       "    </tr>\n",
       "    <tr>\n",
       "      <th>99050</th>\n",
       "      <td>Greenwich Village, Downtown Manhattan, Manhattan</td>\n",
       "      <td>Waverly Place</td>\n",
       "    </tr>\n",
       "    <tr>\n",
       "      <th>1531</th>\n",
       "      <td>930 79th St #2 Dyker Heights, Brooklyn, NY 11228</td>\n",
       "      <td>79th St Dyker Heights</td>\n",
       "    </tr>\n",
       "    <tr>\n",
       "      <th>56792</th>\n",
       "      <td>333 E 49th Street  #2H, (Second Ave &amp; First Ave)</td>\n",
       "      <td>E 49th Street</td>\n",
       "    </tr>\n",
       "    <tr>\n",
       "      <th>29115</th>\n",
       "      <td>7005 SHORE RD #1L Bay Ridge, Brooklyn, NY 11209</td>\n",
       "      <td>SHORE RD, Bay Ridge</td>\n",
       "    </tr>\n",
       "    <tr>\n",
       "      <th>93044</th>\n",
       "      <td>363 Edgecombe Ave #03 (W 150th St &amp; W 155th St)</td>\n",
       "      <td>Edgecombe Avenue</td>\n",
       "    </tr>\n",
       "    <tr>\n",
       "      <th>96687</th>\n",
       "      <td>Hamilton Heights NO BROKER'S FEES Spectacular.</td>\n",
       "      <td>Hamilton Heights NO BROKER'S FEES Spectacular.</td>\n",
       "    </tr>\n",
       "    <tr>\n",
       "      <th>120781</th>\n",
       "      <td>273 Mott St #0003F, (Prince St &amp; E Houston St)</td>\n",
       "      <td>Mott St</td>\n",
       "    </tr>\n",
       "    <tr>\n",
       "      <th>66952</th>\n",
       "      <td>130 Fort Washington Ave.    Btw W164-165    5a</td>\n",
       "      <td>130 Fort Washington Ave. (btw. W 164th St.-W 1...</td>\n",
       "    </tr>\n",
       "    <tr>\n",
       "      <th>43219</th>\n",
       "      <td>145 Fourth Ave #10-C, (E 13th St &amp; E 14th St)</td>\n",
       "      <td>Fourth Ave</td>\n",
       "    </tr>\n",
       "    <tr>\n",
       "      <th>2243</th>\n",
       "      <td>21st ave and 28th street, Astoria, NY, 11105</td>\n",
       "      <td>21st ave and 28th street, Astoria, NY, 11105</td>\n",
       "    </tr>\n",
       "    <tr>\n",
       "      <th>103770</th>\n",
       "      <td>Gramercy Park, Midtown Manhattan, Manhattan</td>\n",
       "      <td>E 15 Street</td>\n",
       "    </tr>\n",
       "    <tr>\n",
       "      <th>17834</th>\n",
       "      <td>63 Wall St. (STDO1403_stdo) sqft?/ Gross AD</td>\n",
       "      <td>Wall St. (Financial District)</td>\n",
       "    </tr>\n",
       "    <tr>\n",
       "      <th>81772</th>\n",
       "      <td>137 W 141st St.    btw adclpow-malx     #12</td>\n",
       "      <td>137 W 141st St. (btw. Adam Clayton powell-Malc...</td>\n",
       "    </tr>\n",
       "    <tr>\n",
       "      <th>76467</th>\n",
       "      <td>326 W 77th St (West End Ave &amp; Riverside Dr)</td>\n",
       "      <td>W 77th St (West End Ave &amp; Riverside Dr)</td>\n",
       "    </tr>\n",
       "    <tr>\n",
       "      <th>45292</th>\n",
       "      <td>71 Broadway (1BDRM-10k_flex2Bdrm)  750sqft.</td>\n",
       "      <td>Financial District</td>\n",
       "    </tr>\n",
       "    <tr>\n",
       "      <th>102984</th>\n",
       "      <td>East Village, Downtown Manhattan, Manhattan</td>\n",
       "      <td>E 9 Street</td>\n",
       "    </tr>\n",
       "    <tr>\n",
       "      <th>54634</th>\n",
       "      <td>100 John St. (STDO1413_Flex2bdrm) 618 sqft.</td>\n",
       "      <td>Financial District</td>\n",
       "    </tr>\n",
       "    <tr>\n",
       "      <th>...</th>\n",
       "      <td>...</td>\n",
       "      <td>...</td>\n",
       "    </tr>\n",
       "    <tr>\n",
       "      <th>27527</th>\n",
       "      <td>2 Gold</td>\n",
       "      <td>Financial District</td>\n",
       "    </tr>\n",
       "    <tr>\n",
       "      <th>60633</th>\n",
       "      <td>E-46St</td>\n",
       "      <td>E-46St</td>\n",
       "    </tr>\n",
       "    <tr>\n",
       "      <th>365</th>\n",
       "      <td>2 Gold</td>\n",
       "      <td>Financial District</td>\n",
       "    </tr>\n",
       "    <tr>\n",
       "      <th>119204</th>\n",
       "      <td>2 Gold</td>\n",
       "      <td>Financial District</td>\n",
       "    </tr>\n",
       "    <tr>\n",
       "      <th>6273</th>\n",
       "      <td>Monroe</td>\n",
       "      <td>Monroe</td>\n",
       "    </tr>\n",
       "    <tr>\n",
       "      <th>110040</th>\n",
       "      <td>33 Wea</td>\n",
       "      <td>Wea</td>\n",
       "    </tr>\n",
       "    <tr>\n",
       "      <th>65270</th>\n",
       "      <td>1 west</td>\n",
       "      <td>FiDi Studio No Fee</td>\n",
       "    </tr>\n",
       "    <tr>\n",
       "      <th>86666</th>\n",
       "      <td>W-37St</td>\n",
       "      <td>9Ave</td>\n",
       "    </tr>\n",
       "    <tr>\n",
       "      <th>101051</th>\n",
       "      <td>20 w 9</td>\n",
       "      <td>w 9</td>\n",
       "    </tr>\n",
       "    <tr>\n",
       "      <th>15250</th>\n",
       "      <td>2 Gold</td>\n",
       "      <td>Financial District</td>\n",
       "    </tr>\n",
       "    <tr>\n",
       "      <th>27865</th>\n",
       "      <td>1588 1</td>\n",
       "      <td>E53 &amp; 2nd ave</td>\n",
       "    </tr>\n",
       "    <tr>\n",
       "      <th>30045</th>\n",
       "      <td>25 Cpw</td>\n",
       "      <td>Cpw</td>\n",
       "    </tr>\n",
       "    <tr>\n",
       "      <th>41739</th>\n",
       "      <td>33 Wea</td>\n",
       "      <td>Wea</td>\n",
       "    </tr>\n",
       "    <tr>\n",
       "      <th>42504</th>\n",
       "      <td>2 Gold</td>\n",
       "      <td>Gold</td>\n",
       "    </tr>\n",
       "    <tr>\n",
       "      <th>75938</th>\n",
       "      <td>6 W 21</td>\n",
       "      <td>W 21</td>\n",
       "    </tr>\n",
       "    <tr>\n",
       "      <th>22139</th>\n",
       "      <td>1 W St</td>\n",
       "      <td>W St</td>\n",
       "    </tr>\n",
       "    <tr>\n",
       "      <th>85887</th>\n",
       "      <td>1 W St</td>\n",
       "      <td>W St</td>\n",
       "    </tr>\n",
       "    <tr>\n",
       "      <th>28445</th>\n",
       "      <td>33 Wea</td>\n",
       "      <td>Wea</td>\n",
       "    </tr>\n",
       "    <tr>\n",
       "      <th>114872</th>\n",
       "      <td>w 30</td>\n",
       "      <td>w 30</td>\n",
       "    </tr>\n",
       "    <tr>\n",
       "      <th>71509</th>\n",
       "      <td>hi5</td>\n",
       "      <td>NO FEE ** 1 MONTH FREE** BEST DEAL ON MARKET**...</td>\n",
       "    </tr>\n",
       "    <tr>\n",
       "      <th>85315</th>\n",
       "      <td></td>\n",
       "      <td></td>\n",
       "    </tr>\n",
       "    <tr>\n",
       "      <th>8530</th>\n",
       "      <td></td>\n",
       "      <td></td>\n",
       "    </tr>\n",
       "    <tr>\n",
       "      <th>65816</th>\n",
       "      <td></td>\n",
       "      <td></td>\n",
       "    </tr>\n",
       "    <tr>\n",
       "      <th>47676</th>\n",
       "      <td></td>\n",
       "      <td></td>\n",
       "    </tr>\n",
       "    <tr>\n",
       "      <th>29164</th>\n",
       "      <td></td>\n",
       "      <td></td>\n",
       "    </tr>\n",
       "    <tr>\n",
       "      <th>29296</th>\n",
       "      <td></td>\n",
       "      <td></td>\n",
       "    </tr>\n",
       "    <tr>\n",
       "      <th>43878</th>\n",
       "      <td></td>\n",
       "      <td></td>\n",
       "    </tr>\n",
       "    <tr>\n",
       "      <th>8633</th>\n",
       "      <td></td>\n",
       "      <td></td>\n",
       "    </tr>\n",
       "    <tr>\n",
       "      <th>96402</th>\n",
       "      <td></td>\n",
       "      <td></td>\n",
       "    </tr>\n",
       "    <tr>\n",
       "      <th>93408</th>\n",
       "      <td></td>\n",
       "      <td>A FABULOUS 4BR IN GRAMERCY!!   PERFECT APARTME...</td>\n",
       "    </tr>\n",
       "  </tbody>\n",
       "</table>\n",
       "<p>49352 rows × 2 columns</p>\n",
       "</div>"
      ],
      "text/plain": [
       "                                           street_address  \\\n",
       "57884   Seacost Terrace #18M 1311 Brightwater Ave • Br...   \n",
       "80926   \\t338 W 77th St #4A (West End Ave & Riverside ...   \n",
       "7152    25 Broad St. (1BDRM10H_1bdrm) 810 sqft/ Gross ...   \n",
       "7031    236 E 36th St #4E (Third Ave & Second Ave) Mur...   \n",
       "14727   145 Fourth Ave #17D (E 13th St & E 14th St) Un...   \n",
       "111609  Yorkville, Upper East Side, Upper Manhattan, M...   \n",
       "67774   10 Hanover Sq. (stdo_HO_4I or 8B_Flex2BDRM) 66...   \n",
       "27361   6718 14th Ave #3-R Dyker Heights, Brooklyn, NY...   \n",
       "90081   710 W 173rd St #25,(Fort Washington Ave & Have...   \n",
       "65373   620 W 171st St #4F, (Broadway & Fort Washingto...   \n",
       "38524   310 West 148th Street, Apt. 3B, New York, NY 1...   \n",
       "22496   45 Wall St. (STDOho910_3bdrm) sqft/ Gross rent AD   \n",
       "70711   354 Cathedral Pkwy (Columbus Ave & Manhattan Ave)   \n",
       "99050    Greenwich Village, Downtown Manhattan, Manhattan   \n",
       "1531     930 79th St #2 Dyker Heights, Brooklyn, NY 11228   \n",
       "56792    333 E 49th Street  #2H, (Second Ave & First Ave)   \n",
       "29115     7005 SHORE RD #1L Bay Ridge, Brooklyn, NY 11209   \n",
       "93044     363 Edgecombe Ave #03 (W 150th St & W 155th St)   \n",
       "96687     Hamilton Heights NO BROKER'S FEES Spectacular.    \n",
       "120781     273 Mott St #0003F, (Prince St & E Houston St)   \n",
       "66952      130 Fort Washington Ave.    Btw W164-165    5a   \n",
       "43219       145 Fourth Ave #10-C, (E 13th St & E 14th St)   \n",
       "2243         21st ave and 28th street, Astoria, NY, 11105   \n",
       "103770        Gramercy Park, Midtown Manhattan, Manhattan   \n",
       "17834         63 Wall St. (STDO1403_stdo) sqft?/ Gross AD   \n",
       "81772         137 W 141st St.    btw adclpow-malx     #12   \n",
       "76467         326 W 77th St (West End Ave & Riverside Dr)   \n",
       "45292         71 Broadway (1BDRM-10k_flex2Bdrm)  750sqft.   \n",
       "102984        East Village, Downtown Manhattan, Manhattan   \n",
       "54634         100 John St. (STDO1413_Flex2bdrm) 618 sqft.   \n",
       "...                                                   ...   \n",
       "27527                                              2 Gold   \n",
       "60633                                              E-46St   \n",
       "365                                                2 Gold   \n",
       "119204                                             2 Gold   \n",
       "6273                                               Monroe   \n",
       "110040                                             33 Wea   \n",
       "65270                                              1 west   \n",
       "86666                                              W-37St   \n",
       "101051                                             20 w 9   \n",
       "15250                                              2 Gold   \n",
       "27865                                              1588 1   \n",
       "30045                                              25 Cpw   \n",
       "41739                                              33 Wea   \n",
       "42504                                              2 Gold   \n",
       "75938                                              6 W 21   \n",
       "22139                                              1 W St   \n",
       "85887                                              1 W St   \n",
       "28445                                              33 Wea   \n",
       "114872                                               w 30   \n",
       "71509                                                 hi5   \n",
       "85315                                                       \n",
       "8530                                                        \n",
       "65816                                                       \n",
       "47676                                                       \n",
       "29164                                                       \n",
       "29296                                                       \n",
       "43878                                                       \n",
       "8633                                                        \n",
       "96402                                                       \n",
       "93408                                                       \n",
       "\n",
       "                                          display_address  \n",
       "57884                      Brightwater Ave Brighton Beach  \n",
       "80926                        W 77th St Close to Riverside  \n",
       "7152                       Broad St. (Financial District)  \n",
       "7031                                           E 36th St   \n",
       "14727     Fourth Ave (E 13th St & E 14th St) Union Square  \n",
       "111609                                       First Avenue  \n",
       "67774                                  Financial District  \n",
       "27361                             14th Ave  Dyker Heights  \n",
       "90081                                          W 173rd St  \n",
       "65373                                          W 171st St  \n",
       "38524                      310 West 148th Street, Apt. 3B  \n",
       "22496                       Wall St. (Financial District)  \n",
       "70711       Cathedral Pkwy (Columbus Ave & Manhattan Ave)  \n",
       "99050                                       Waverly Place  \n",
       "1531                                79th St Dyker Heights  \n",
       "56792                                       E 49th Street  \n",
       "29115                                 SHORE RD, Bay Ridge  \n",
       "93044                                    Edgecombe Avenue  \n",
       "96687     Hamilton Heights NO BROKER'S FEES Spectacular.   \n",
       "120781                                           Mott St   \n",
       "66952   130 Fort Washington Ave. (btw. W 164th St.-W 1...  \n",
       "43219                                         Fourth Ave   \n",
       "2243         21st ave and 28th street, Astoria, NY, 11105  \n",
       "103770                                        E 15 Street  \n",
       "17834                       Wall St. (Financial District)  \n",
       "81772   137 W 141st St. (btw. Adam Clayton powell-Malc...  \n",
       "76467             W 77th St (West End Ave & Riverside Dr)  \n",
       "45292                                  Financial District  \n",
       "102984                                         E 9 Street  \n",
       "54634                                  Financial District  \n",
       "...                                                   ...  \n",
       "27527                                  Financial District  \n",
       "60633                                              E-46St  \n",
       "365                                    Financial District  \n",
       "119204                                 Financial District  \n",
       "6273                                               Monroe  \n",
       "110040                                                Wea  \n",
       "65270                                  FiDi Studio No Fee  \n",
       "86666                                               9Ave   \n",
       "101051                                                w 9  \n",
       "15250                                  Financial District  \n",
       "27865                                       E53 & 2nd ave  \n",
       "30045                                                 Cpw  \n",
       "41739                                                 Wea  \n",
       "42504                                                Gold  \n",
       "75938                                                W 21  \n",
       "22139                                                W St  \n",
       "85887                                                W St  \n",
       "28445                                                 Wea  \n",
       "114872                                               w 30  \n",
       "71509   NO FEE ** 1 MONTH FREE** BEST DEAL ON MARKET**...  \n",
       "85315                                                      \n",
       "8530                                                       \n",
       "65816                                                      \n",
       "47676                                                      \n",
       "29164                                                      \n",
       "29296                                                      \n",
       "43878                                                      \n",
       "8633                                                       \n",
       "96402                                                      \n",
       "93408   A FABULOUS 4BR IN GRAMERCY!!   PERFECT APARTME...  \n",
       "\n",
       "[49352 rows x 2 columns]"
      ]
     },
     "execution_count": 65,
     "metadata": {},
     "output_type": "execute_result"
    }
   ],
   "source": [
    "  \n",
    "data_train[['street_address', 'display_address']]\n",
    "\n"
   ]
  },
  {
   "cell_type": "code",
   "execution_count": 77,
   "metadata": {},
   "outputs": [
    {
     "data": {
      "text/plain": [
       "37028                                     greenwich village\n",
       "28660                                      greenwich avenue\n",
       "12744                                        greenwich ave \n",
       "72171                                      greenwich street\n",
       "105150                                     greenwich street\n",
       "32360                                      greenwich street\n",
       "55624                                      greenwich street\n",
       "49954                                      greenwich street\n",
       "110134                                     greenwich street\n",
       "33131                                      greenwich street\n",
       "49297                                      greenwich avenue\n",
       "4975                                       greenwich street\n",
       "100310                                     greenwich street\n",
       "42299                                      greenwich street\n",
       "108720                                     greenwich street\n",
       "108685                                     greenwich avenue\n",
       "99684                                      greenwich street\n",
       "91509                                      greenwich street\n",
       "60207                                      greenwich street\n",
       "61734                                      greenwich street\n",
       "81113                                      greenwich street\n",
       "31799                                      greenwich street\n",
       "92106                                      greenwich street\n",
       "18523                                      greenwich street\n",
       "59758                                      greenwich street\n",
       "99382                                      greenwich street\n",
       "113785                                     greenwich street\n",
       "67854                                      greenwich street\n",
       "2534                                       greenwich avenue\n",
       "25333                                      greenwich street\n",
       "                                ...                        \n",
       "120920                                       greenwich ave.\n",
       "1083                                         greenwich ave,\n",
       "76937                                         greenwich st.\n",
       "33220                                         greenwich st.\n",
       "115399                                         greenwich st\n",
       "59943                                          greenwich st\n",
       "19460                                          greenwich st\n",
       "93185                          a steal in greenwich village\n",
       "26958      amazing 2 bedroom in heart of greenwich village \n",
       "23252                                      88 greenwich st.\n",
       "70889                                          greenwich st\n",
       "103125                                         greenwich st\n",
       "102405                                        greenwich st.\n",
       "117521                                        greenwich st.\n",
       "67476                                         greenwich ave\n",
       "111422                                        greenwich ave\n",
       "49162                                         greenwich st.\n",
       "103788                                         greenwich st\n",
       "29129                                          greenwich st\n",
       "11068     k.r. - stunning studio for great price - green...\n",
       "108832                   220 sullivan st, greenwich village\n",
       "79071                                      greenwich street\n",
       "59227                                 greenwich ave/w 12 st\n",
       "66120                                             greenwich\n",
       "82718                                     greenwich village\n",
       "110952                                            greenwich\n",
       "50069                                      greenwich street\n",
       "80606                                      greenwich street\n",
       "68598                                     greenwich village\n",
       "64154                                 greenwich ave/w 13 st\n",
       "Name: display_address, Length: 167, dtype: object"
      ]
     },
     "execution_count": 77,
     "metadata": {},
     "output_type": "execute_result"
    }
   ],
   "source": [
    "data_train['display_address'] = data_train['display_address'].str.lower()\n",
    "data_train[data_train['display_address'].str.contains(\"greenwich\")]['display_address']"
   ]
  },
  {
   "cell_type": "code",
   "execution_count": 78,
   "metadata": {},
   "outputs": [],
   "source": [
    "from fuzzywuzzy import fuzz"
   ]
  },
  {
   "cell_type": "code",
   "execution_count": 80,
   "metadata": {},
   "outputs": [
    {
     "data": {
      "text/plain": [
       "30"
      ]
     },
     "execution_count": 80,
     "metadata": {},
     "output_type": "execute_result"
    }
   ],
   "source": [
    "fuzz.ratio(\"High rise, new construction 2 Gold\", \"2 Gold\" )"
   ]
  }
 ],
 "metadata": {
  "kernelspec": {
   "display_name": "Python 3",
   "language": "python",
   "name": "python3"
  },
  "language_info": {
   "codemirror_mode": {
    "name": "ipython",
    "version": 3
   },
   "file_extension": ".py",
   "mimetype": "text/x-python",
   "name": "python",
   "nbconvert_exporter": "python",
   "pygments_lexer": "ipython3",
   "version": "3.7.0"
  }
 },
 "nbformat": 4,
 "nbformat_minor": 2
}
