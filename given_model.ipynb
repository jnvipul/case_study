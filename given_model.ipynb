{
 "cells": [
  {
   "cell_type": "code",
   "execution_count": 908,
   "metadata": {
    "scrolled": true
   },
   "outputs": [],
   "source": [
    "# This Python 3 environment comes with many helpful analytics libraries installed\n",
    "# It is defined by the kaggle/python docker image: https://github.com/kaggle/docker-python\n",
    "# For example, here's several helpful packages to load in \n",
    "\n",
    "import numpy as np # linear algebra\n",
    "import pandas as pd # data processing, CSV file I/O (e.g. pd.read_csv)\n",
    "\n",
    "# Input data files are available in the \"../input/\" directory.\n",
    "# For example, running this (by clicking run or pressing Shift+Enter) will list the files in the input directory\n",
    "\n",
    "from subprocess import check_output\n",
    "# print(check_output([\"ls\", \"data\"]).decode(\"utf8\"))\n",
    "\n",
    "# Any results you write to the current directory are saved as output.\n",
    "\n",
    "\n",
    "from sklearn.ensemble import RandomForestClassifier\n",
    "from sklearn.model_selection import train_test_split\n",
    "from sklearn.metrics import log_loss\n",
    "%matplotlib inline\n",
    "import statistics"
   ]
  },
  {
   "cell_type": "code",
   "execution_count": 909,
   "metadata": {},
   "outputs": [],
   "source": [
    "def remove_outliers(df):\n",
    "    # standard deviation threshold\n",
    "    sd_threshold = 1\n",
    "    \n",
    "    # Remove price outliers\n",
    "    df = df[(df.price <= 15000) & (df.price >= 1000)]\n",
    "    \n",
    "    # Remove dist from city centre outliers\n",
    "    # apporimate radius from city centre\n",
    "    NYC_RADIUS = 20\n",
    "    df = df[(df.dist_from_ctr <= 20)]\n",
    "    return df"
   ]
  },
  {
   "cell_type": "code",
   "execution_count": 910,
   "metadata": {},
   "outputs": [],
   "source": [
    "manager_scores = {}\n",
    "def create_manager_scores(df):\n",
    "    global manager_scores\n",
    "    manager_scores = {}\n",
    "    \n",
    "    def calculate_manager_score(row):\n",
    "        manager_id = row['manager_id']\n",
    "        interest = row['interest_level']\n",
    "        \n",
    "        score_to_add = 0\n",
    "        if interest == 'high':\n",
    "            score_to_add += 3\n",
    "        elif interest == 'medium':\n",
    "            score_to_add += 2\n",
    "        elif interest == 'low':\n",
    "            score_to_add += 1\n",
    "        \n",
    "        if manager_id in manager_scores:\n",
    "            manager_scores[manager_id] = manager_scores[manager_id] + score_to_add\n",
    "        else:\n",
    "            manager_scores[manager_id] = score_to_add\n",
    "    df.apply(calculate_manager_score, axis=1)\n",
    "    \n",
    "def apply_manager_scores(row):\n",
    "    manager_id = row['manager_id']\n",
    "    if manager_id in manager_scores:\n",
    "        row['manager_score'] = manager_scores[manager_id]\n",
    "    else:\n",
    "        row['manager_score'] = 0\n",
    "        \n",
    "    return row"
   ]
  },
  {
   "cell_type": "code",
   "execution_count": 911,
   "metadata": {},
   "outputs": [],
   "source": [
    "building_scores = {}\n",
    "def create_building_scores(df):\n",
    "    global building_scores\n",
    "    building_scores = {}\n",
    "    \n",
    "    def calculate_building_score(row):\n",
    "        building_id = row['building_id']\n",
    "        interest = row['interest_level']\n",
    "        \n",
    "        score_to_add = 0\n",
    "        if interest == 'high':\n",
    "            score_to_add += 3\n",
    "        elif interest == 'medium':\n",
    "            score_to_add += 2\n",
    "        elif interest == 'low':\n",
    "            score_to_add += 1\n",
    "        \n",
    "        if building_id in building_scores:\n",
    "            building_scores[building_id] = building_scores[building_id] + score_to_add\n",
    "        else:\n",
    "            building_scores[building_id] = score_to_add\n",
    "        \n",
    "    df.apply(calculate_building_score, axis=1)\n",
    "    \n",
    "    # NOTE : Building ID '0' seem to be missing data issue | Assigning 0 score to building id 0   \n",
    "    building_scores['0'] = statistics.median(list(building_scores.values()))\n",
    "    \n",
    "def apply_building_scores(row):\n",
    "    building_id = row['building_id']\n",
    "    if building_id in building_scores:\n",
    "        row['building_score'] = building_scores[building_id]\n",
    "    else:\n",
    "        row['building_score'] = 0\n",
    "        \n",
    "    return row"
   ]
  },
  {
   "cell_type": "code",
   "execution_count": 912,
   "metadata": {},
   "outputs": [],
   "source": [
    "def price_per_bedroom(row):\n",
    "    bedrooms = row['bedrooms']\n",
    "    if bedrooms == 0:\n",
    "        price_per_bedroom = 0\n",
    "    else:\n",
    "        price_per_bedroom = row['price'] * 1.00 / bedrooms\n",
    "    row['price_per_bedroom'] = price_per_bedroom\n",
    "    return row"
   ]
  },
  {
   "cell_type": "code",
   "execution_count": 913,
   "metadata": {},
   "outputs": [],
   "source": [
    "def price_per_bathroom(row):\n",
    "    bathrooms = row['bathrooms']\n",
    "    if bathrooms == 0:\n",
    "        price_per_bathroom = 0\n",
    "    else:\n",
    "        price_per_bathroom = row['price'] * 1.00 / bathrooms\n",
    "    row['price_per_bathroom'] = price_per_bathroom\n",
    "    return row"
   ]
  },
  {
   "cell_type": "code",
   "execution_count": 914,
   "metadata": {},
   "outputs": [],
   "source": [
    "def bath_bed_ratio(row):\n",
    "    bedrooms = row['bedrooms']\n",
    "    bathrooms = row['bathrooms']\n",
    "    if bedrooms == 0:\n",
    "        bath_bed_ratio = bathrooms\n",
    "    else:\n",
    "        bath_bed_ratio = bathrooms/bedrooms\n",
    "    \n",
    "    row['bath_bed_ratio'] = bath_bed_ratio\n",
    "    return row"
   ]
  },
  {
   "cell_type": "code",
   "execution_count": 915,
   "metadata": {},
   "outputs": [],
   "source": [
    "# Key : Feature in data | Value : column name to be created for category variable\n",
    "\n",
    "home_features_dict = {'Elevator': 'has_elevator',\n",
    " 'Cats Allowed': 'has_cats_allowed',\n",
    " 'Hardwood Floors': 'has_hardwood_floors',\n",
    " 'Dogs Allowed': 'has_dogs_allowed',\n",
    " 'Doorman': 'has_doorman',\n",
    " 'Dishwasher': 'has_dishwasher',\n",
    " 'No Fee': 'has_no_fee',\n",
    " 'Laundry in Building': 'has_laundry_in_building',\n",
    " 'Fitness Center': 'has_fitness_center',\n",
    " 'Pre-War': 'has_pre-war',\n",
    " 'Laundry in Unit': 'has_laundry_in_unit',\n",
    " 'Roof Deck': 'has_roof_deck',\n",
    " 'Outdoor Space': 'has_outdoor_space',\n",
    " 'Dining Room': 'has_dining_room',\n",
    " 'High Speed Internet': 'has_high_speed_internet',\n",
    " 'Balcony': 'has_balcony',\n",
    " 'Swimming Pool': 'has_swimming_pool',\n",
    " 'Laundry In Building': 'has_laundry_in_building',\n",
    " 'New Construction': 'has_new_construction',\n",
    " 'Terrace': 'has_terrace',\n",
    " 'Exclusive': 'has_exclusive',\n",
    " 'Loft': 'has_loft',\n",
    " 'Garden/Patio': 'has_garden/patio',\n",
    " 'Wheelchair Access': 'has_wheelchair_access',\n",
    " 'Common Outdoor Space': 'has_common_outdoor_space'}\n",
    "\n",
    "def process_home_features(df):\n",
    "    # Add columns for popular features\n",
    "    for key, val in home_features_dict.items():\n",
    "        df[val] = 0\n",
    "        \n",
    "    def update_popular_feature_cols(row):\n",
    "        features = row['features']\n",
    "        for feature in features:\n",
    "            if feature in home_features_dict:\n",
    "                row[home_features_dict[feature]] = 1\n",
    "\n",
    "        return row\n",
    "    \n",
    "    df = df.apply(update_popular_feature_cols, axis=1)\n",
    "    return df"
   ]
  },
  {
   "cell_type": "code",
   "execution_count": 916,
   "metadata": {},
   "outputs": [],
   "source": [
    "def create_has_photos_has_description(row):\n",
    "    row['has_photos'] = 1 if row['num_photos'] > 0 else 0\n",
    "    row['has_description'] = 1 if row['num_description_words'] > 0 else 0\n",
    "    return row"
   ]
  },
  {
   "cell_type": "code",
   "execution_count": 917,
   "metadata": {},
   "outputs": [],
   "source": [
    "import geopy.distance\n",
    "def distance_from_centre(row):\n",
    "    centre = (40.718, -74.008)\n",
    "    lat_long = (row['latitude'], row['longitude'])\n",
    "    distance = geopy.distance.vincenty(centre, lat_long).miles\n",
    "    row['dist_from_ctr'] = distance\n",
    "    return row"
   ]
  },
  {
   "cell_type": "markdown",
   "metadata": {},
   "source": [
    "## Feature Engineering"
   ]
  },
  {
   "cell_type": "code",
   "execution_count": 918,
   "metadata": {},
   "outputs": [],
   "source": [
    "def feature_engineering(df):\n",
    "    df[\"num_photos\"] = df[\"photos\"].apply(len)\n",
    "    df[\"num_features\"] = df[\"features\"].apply(len)\n",
    "    df[\"num_description_words\"] = df[\"description\"].apply(lambda x: len(x.split(\" \")))\n",
    "\n",
    "    # Create date month year\n",
    "    df[\"created\"] = pd.to_datetime(df[\"created\"])\n",
    "    df[\"created_month\"] = df[\"created\"].dt.month\n",
    "    df[\"created_day\"] = df[\"created\"].dt.day\n",
    "    df[\"created_hour\"] = df[\"created\"].dt.hour\n",
    "\n",
    "    df['is_weekday'] = ((df.created_day) // 5 == 1).astype(float)\n",
    "    df = df.apply(apply_manager_scores, axis=1)\n",
    "    df = df.apply(price_per_bedroom, axis=1)\n",
    "    df = process_home_features(df)\n",
    "    df = df.apply(distance_from_centre, axis=1)\n",
    "    \n",
    "    df = df.apply(apply_building_scores, axis=1)\n",
    "    \n",
    "    # Didn't work\n",
    "    # df = df.apply(create_has_photos_has_description, axis=1)\n",
    "    # df = df.apply(price_per_bathroom, axis=1) \n",
    "    # df = df.apply(bath_bed_ratio, axis=1)\n",
    "    # df[\"bed_bath_differnce\"] = df['bedrooms'] - df['bathrooms']\n",
    "    # df[\"bed_bath_sum\"] = df[\"bedrooms\"] + df['bathrooms']\n",
    "    \n",
    "   \n",
    "    return df"
   ]
  },
  {
   "cell_type": "code",
   "execution_count": 919,
   "metadata": {},
   "outputs": [],
   "source": [
    "# num_feats = [\"bathrooms\", \"bedrooms\", \"latitude\", \"longitude\", \"price\",\n",
    "    #              \"num_photos\", \"num_features\", \"num_description_words\",\n",
    "    #              \"created_year\", \"created_month\", \"created_day\"]\n",
    "\n",
    "num_feats = [\"bathrooms\", \n",
    "             \"bedrooms\", \n",
    "             \"latitude\", \n",
    "             \"longitude\", \n",
    "             \"price\",\n",
    "             \"num_photos\", \n",
    "             \"num_features\", \n",
    "             \"num_description_words\",\n",
    "             \"created_month\", \n",
    "             \"created_day\", \n",
    "             \"created_hour\", \n",
    "             \"manager_score\",\n",
    "             \"price_per_bedroom\",\n",
    "             \"dist_from_ctr\",\n",
    "#              \"building_score\"\n",
    "            ]\n",
    "\n",
    "# add names of house features\n",
    "num_feats.extend(list(home_features_dict.values()))"
   ]
  },
  {
   "cell_type": "markdown",
   "metadata": {},
   "source": [
    "### Read Data"
   ]
  },
  {
   "cell_type": "code",
   "execution_count": 920,
   "metadata": {
    "scrolled": true
   },
   "outputs": [
    {
     "name": "stdout",
     "output_type": "stream",
     "text": [
      "(49352, 15)\n"
     ]
    },
    {
     "data": {
      "text/html": [
       "<div>\n",
       "<style scoped>\n",
       "    .dataframe tbody tr th:only-of-type {\n",
       "        vertical-align: middle;\n",
       "    }\n",
       "\n",
       "    .dataframe tbody tr th {\n",
       "        vertical-align: top;\n",
       "    }\n",
       "\n",
       "    .dataframe thead th {\n",
       "        text-align: right;\n",
       "    }\n",
       "</style>\n",
       "<table border=\"1\" class=\"dataframe\">\n",
       "  <thead>\n",
       "    <tr style=\"text-align: right;\">\n",
       "      <th></th>\n",
       "      <th>bathrooms</th>\n",
       "      <th>bedrooms</th>\n",
       "      <th>latitude</th>\n",
       "      <th>listing_id</th>\n",
       "      <th>longitude</th>\n",
       "      <th>price</th>\n",
       "    </tr>\n",
       "  </thead>\n",
       "  <tbody>\n",
       "    <tr>\n",
       "      <th>count</th>\n",
       "      <td>49352.00000</td>\n",
       "      <td>49352.000000</td>\n",
       "      <td>49352.000000</td>\n",
       "      <td>4.935200e+04</td>\n",
       "      <td>49352.000000</td>\n",
       "      <td>4.935200e+04</td>\n",
       "    </tr>\n",
       "    <tr>\n",
       "      <th>mean</th>\n",
       "      <td>1.21218</td>\n",
       "      <td>1.541640</td>\n",
       "      <td>40.741545</td>\n",
       "      <td>7.024055e+06</td>\n",
       "      <td>-73.955716</td>\n",
       "      <td>3.830174e+03</td>\n",
       "    </tr>\n",
       "    <tr>\n",
       "      <th>std</th>\n",
       "      <td>0.50142</td>\n",
       "      <td>1.115018</td>\n",
       "      <td>0.638535</td>\n",
       "      <td>1.262746e+05</td>\n",
       "      <td>1.177912</td>\n",
       "      <td>2.206687e+04</td>\n",
       "    </tr>\n",
       "    <tr>\n",
       "      <th>min</th>\n",
       "      <td>0.00000</td>\n",
       "      <td>0.000000</td>\n",
       "      <td>0.000000</td>\n",
       "      <td>6.811957e+06</td>\n",
       "      <td>-118.271000</td>\n",
       "      <td>4.300000e+01</td>\n",
       "    </tr>\n",
       "    <tr>\n",
       "      <th>25%</th>\n",
       "      <td>1.00000</td>\n",
       "      <td>1.000000</td>\n",
       "      <td>40.728300</td>\n",
       "      <td>6.915888e+06</td>\n",
       "      <td>-73.991700</td>\n",
       "      <td>2.500000e+03</td>\n",
       "    </tr>\n",
       "    <tr>\n",
       "      <th>50%</th>\n",
       "      <td>1.00000</td>\n",
       "      <td>1.000000</td>\n",
       "      <td>40.751800</td>\n",
       "      <td>7.021070e+06</td>\n",
       "      <td>-73.977900</td>\n",
       "      <td>3.150000e+03</td>\n",
       "    </tr>\n",
       "    <tr>\n",
       "      <th>75%</th>\n",
       "      <td>1.00000</td>\n",
       "      <td>2.000000</td>\n",
       "      <td>40.774300</td>\n",
       "      <td>7.128733e+06</td>\n",
       "      <td>-73.954800</td>\n",
       "      <td>4.100000e+03</td>\n",
       "    </tr>\n",
       "    <tr>\n",
       "      <th>max</th>\n",
       "      <td>10.00000</td>\n",
       "      <td>8.000000</td>\n",
       "      <td>44.883500</td>\n",
       "      <td>7.753784e+06</td>\n",
       "      <td>0.000000</td>\n",
       "      <td>4.490000e+06</td>\n",
       "    </tr>\n",
       "  </tbody>\n",
       "</table>\n",
       "</div>"
      ],
      "text/plain": [
       "         bathrooms      bedrooms      latitude    listing_id     longitude  \\\n",
       "count  49352.00000  49352.000000  49352.000000  4.935200e+04  49352.000000   \n",
       "mean       1.21218      1.541640     40.741545  7.024055e+06    -73.955716   \n",
       "std        0.50142      1.115018      0.638535  1.262746e+05      1.177912   \n",
       "min        0.00000      0.000000      0.000000  6.811957e+06   -118.271000   \n",
       "25%        1.00000      1.000000     40.728300  6.915888e+06    -73.991700   \n",
       "50%        1.00000      1.000000     40.751800  7.021070e+06    -73.977900   \n",
       "75%        1.00000      2.000000     40.774300  7.128733e+06    -73.954800   \n",
       "max       10.00000      8.000000     44.883500  7.753784e+06      0.000000   \n",
       "\n",
       "              price  \n",
       "count  4.935200e+04  \n",
       "mean   3.830174e+03  \n",
       "std    2.206687e+04  \n",
       "min    4.300000e+01  \n",
       "25%    2.500000e+03  \n",
       "50%    3.150000e+03  \n",
       "75%    4.100000e+03  \n",
       "max    4.490000e+06  "
      ]
     },
     "execution_count": 920,
     "metadata": {},
     "output_type": "execute_result"
    }
   ],
   "source": [
    "df = pd.read_json(open(\"data/train.json\", \"r\"))\n",
    "print(df.shape)\n",
    "df.describe()"
   ]
  },
  {
   "cell_type": "markdown",
   "metadata": {},
   "source": [
    "### Remove Outliers"
   ]
  },
  {
   "cell_type": "code",
   "execution_count": 921,
   "metadata": {},
   "outputs": [],
   "source": [
    "create_manager_scores(df)\n",
    "create_building_scores(df)"
   ]
  },
  {
   "cell_type": "code",
   "execution_count": 922,
   "metadata": {},
   "outputs": [
    {
     "name": "stderr",
     "output_type": "stream",
     "text": [
      "/Users/vipul/anaconda3/lib/python3.7/site-packages/ipykernel_launcher.py:5: DeprecationWarning: Vincenty is deprecated and is going to be removed in geopy 2.0. Use `geopy.distance.geodesic` (or the default `geopy.distance.distance`) instead, which is more accurate and always converges.\n",
      "  \"\"\"\n"
     ]
    }
   ],
   "source": [
    "df = feature_engineering(df)"
   ]
  },
  {
   "cell_type": "code",
   "execution_count": 923,
   "metadata": {},
   "outputs": [
    {
     "name": "stdout",
     "output_type": "stream",
     "text": [
      "(49033, 50)\n"
     ]
    }
   ],
   "source": [
    "df = remove_outliers(df)\n",
    "print(df.shape)"
   ]
  },
  {
   "cell_type": "markdown",
   "metadata": {},
   "source": [
    "### Train Model"
   ]
  },
  {
   "cell_type": "code",
   "execution_count": 924,
   "metadata": {},
   "outputs": [
    {
     "name": "stdout",
     "output_type": "stream",
     "text": [
      "Loss : 0.6006279447078225\n"
     ]
    }
   ],
   "source": [
    "X = df[num_feats]\n",
    "y = df[\"interest_level\"]\n",
    "X.head()\n",
    "\n",
    "X_train, X_val, y_train, y_val = train_test_split(X, y, test_size=0.33)\n",
    "\n",
    "clf = RandomForestClassifier(n_estimators=1000)\n",
    "clf.fit(X_train, y_train)\n",
    "y_val_pred = clf.predict_proba(X_val)\n",
    "\n",
    "# calculate training loss\n",
    "loss = log_loss(y_val, y_val_pred)\n",
    "print(f'Loss : {loss}')"
   ]
  },
  {
   "cell_type": "code",
   "execution_count": 925,
   "metadata": {},
   "outputs": [
    {
     "data": {
      "text/plain": [
       "<matplotlib.axes._subplots.AxesSubplot at 0x1abe1b70f0>"
      ]
     },
     "execution_count": 925,
     "metadata": {},
     "output_type": "execute_result"
    },
    {
     "data": {
      "image/png": "[encoded data removed]",
      "text/plain": [
       "<Figure size 432x288 with 1 Axes>"
      ]
     },
     "metadata": {
      "needs_background": "light"
     },
     "output_type": "display_data"
    }
   ],
   "source": [
    "pd.Series(index = num_feats, data = clf.feature_importances_).sort_values().plot(kind = 'bar')"
   ]
  },
  {
   "cell_type": "code",
   "execution_count": 926,
   "metadata": {},
   "outputs": [
    {
     "data": {
      "text/plain": [
       "(49033, 39)"
      ]
     },
     "execution_count": 926,
     "metadata": {},
     "output_type": "execute_result"
    }
   ],
   "source": [
    "X.shape"
   ]
  },
  {
   "cell_type": "markdown",
   "metadata": {},
   "source": [
    "## Making predictions on test data"
   ]
  },
  {
   "cell_type": "markdown",
   "metadata": {},
   "source": [
    "### Read and feature engineer"
   ]
  },
  {
   "cell_type": "code",
   "execution_count": 927,
   "metadata": {},
   "outputs": [
    {
     "name": "stderr",
     "output_type": "stream",
     "text": [
      "/Users/vipul/anaconda3/lib/python3.7/site-packages/ipykernel_launcher.py:5: DeprecationWarning: Vincenty is deprecated and is going to be removed in geopy 2.0. Use `geopy.distance.geodesic` (or the default `geopy.distance.distance`) instead, which is more accurate and always converges.\n",
      "  \"\"\"\n"
     ]
    }
   ],
   "source": [
    "test_df = pd.read_json(open(\"data/test.json\", \"r\"))\n",
    "test_df = feature_engineering(test_df)"
   ]
  },
  {
   "cell_type": "code",
   "execution_count": 928,
   "metadata": {},
   "outputs": [
    {
     "data": {
      "text/plain": [
       "count    74659.000000\n",
       "mean        42.458083\n",
       "std         67.947383\n",
       "min          0.000000\n",
       "25%          3.000000\n",
       "50%         14.000000\n",
       "75%         48.000000\n",
       "max        392.000000\n",
       "Name: building_score, dtype: float64"
      ]
     },
     "execution_count": 928,
     "metadata": {},
     "output_type": "execute_result"
    }
   ],
   "source": [
    "test_df['building_score'].describe()"
   ]
  },
  {
   "cell_type": "markdown",
   "metadata": {},
   "source": [
    "### Predict"
   ]
  },
  {
   "cell_type": "code",
   "execution_count": 929,
   "metadata": {},
   "outputs": [],
   "source": [
    "X = test_df[num_feats]\n",
    "y = clf.predict_proba(X)\n",
    "\n",
    "labels2idx = {label: i for i, label in enumerate(clf.classes_)}\n",
    "\n",
    "sub = pd.DataFrame()\n",
    "sub[\"listing_id\"] = test_df[\"listing_id\"]\n",
    "for label in [\"high\", \"medium\", \"low\"]:\n",
    "    sub[label] = y[:, labels2idx[label]]"
   ]
  },
  {
   "cell_type": "code",
   "execution_count": 930,
   "metadata": {},
   "outputs": [],
   "source": [
    "sub.to_csv(\"submission_rf.csv\", index=False)"
   ]
  },
  {
   "cell_type": "code",
   "execution_count": 931,
   "metadata": {},
   "outputs": [],
   "source": [
    "submission = pd.read_csv('submission_rf.csv')"
   ]
  },
  {
   "cell_type": "code",
   "execution_count": 932,
   "metadata": {},
   "outputs": [
    {
     "data": {
      "text/html": [
       "<div>\n",
       "<style scoped>\n",
       "    .dataframe tbody tr th:only-of-type {\n",
       "        vertical-align: middle;\n",
       "    }\n",
       "\n",
       "    .dataframe tbody tr th {\n",
       "        vertical-align: top;\n",
       "    }\n",
       "\n",
       "    .dataframe thead th {\n",
       "        text-align: right;\n",
       "    }\n",
       "</style>\n",
       "<table border=\"1\" class=\"dataframe\">\n",
       "  <thead>\n",
       "    <tr style=\"text-align: right;\">\n",
       "      <th></th>\n",
       "      <th>listing_id</th>\n",
       "      <th>high</th>\n",
       "      <th>medium</th>\n",
       "      <th>low</th>\n",
       "    </tr>\n",
       "  </thead>\n",
       "  <tbody>\n",
       "    <tr>\n",
       "      <th>0</th>\n",
       "      <td>7142618</td>\n",
       "      <td>0.040</td>\n",
       "      <td>0.420</td>\n",
       "      <td>0.540</td>\n",
       "    </tr>\n",
       "    <tr>\n",
       "      <th>1</th>\n",
       "      <td>7210040</td>\n",
       "      <td>0.227</td>\n",
       "      <td>0.315</td>\n",
       "      <td>0.458</td>\n",
       "    </tr>\n",
       "    <tr>\n",
       "      <th>2</th>\n",
       "      <td>7103890</td>\n",
       "      <td>0.009</td>\n",
       "      <td>0.119</td>\n",
       "      <td>0.872</td>\n",
       "    </tr>\n",
       "    <tr>\n",
       "      <th>3</th>\n",
       "      <td>7143442</td>\n",
       "      <td>0.071</td>\n",
       "      <td>0.357</td>\n",
       "      <td>0.572</td>\n",
       "    </tr>\n",
       "    <tr>\n",
       "      <th>4</th>\n",
       "      <td>6860601</td>\n",
       "      <td>0.009</td>\n",
       "      <td>0.346</td>\n",
       "      <td>0.645</td>\n",
       "    </tr>\n",
       "  </tbody>\n",
       "</table>\n",
       "</div>"
      ],
      "text/plain": [
       "   listing_id   high  medium    low\n",
       "0     7142618  0.040   0.420  0.540\n",
       "1     7210040  0.227   0.315  0.458\n",
       "2     7103890  0.009   0.119  0.872\n",
       "3     7143442  0.071   0.357  0.572\n",
       "4     6860601  0.009   0.346  0.645"
      ]
     },
     "execution_count": 932,
     "metadata": {},
     "output_type": "execute_result"
    }
   ],
   "source": [
    "submission.head()"
   ]
  },
  {
   "cell_type": "code",
   "execution_count": 933,
   "metadata": {},
   "outputs": [
    {
     "data": {
      "text/plain": [
       "<matplotlib.axes._subplots.AxesSubplot at 0x1a8a514278>"
      ]
     },
     "execution_count": 933,
     "metadata": {},
     "output_type": "execute_result"
    },
    {
     "data": {
      "image/png": "[encoded data removed]",
      "text/plain": [
       "<Figure size 432x288 with 1 Axes>"
      ]
     },
     "metadata": {
      "needs_background": "light"
     },
     "output_type": "display_data"
    }
   ],
   "source": [
    "pd.Series(index = num_feats, data = clf.feature_importances_).sort_values().plot(kind = 'bar')"
   ]
  },
  {
   "cell_type": "code",
   "execution_count": null,
   "metadata": {},
   "outputs": [],
   "source": []
  }
 ],
 "metadata": {
  "kernelspec": {
   "display_name": "Python 3",
   "language": "python",
   "name": "python3"
  },
  "language_info": {
   "codemirror_mode": {
    "name": "ipython",
    "version": 3
   },
   "file_extension": ".py",
   "mimetype": "text/x-python",
   "name": "python",
   "nbconvert_exporter": "python",
   "pygments_lexer": "ipython3",
   "version": "3.7.0"
  }
 },
 "nbformat": 4,
 "nbformat_minor": 2
}
