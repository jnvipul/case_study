{
 "cells": [
  {
   "cell_type": "code",
   "execution_count": 2103,
   "metadata": {
    "scrolled": true
   },
   "outputs": [],
   "source": [
    "# This Python 3 environment comes with many helpful analytics libraries installed\n",
    "# It is defined by the kaggle/python docker image: https://github.com/kaggle/docker-python\n",
    "# For example, here's several helpful packages to load in \n",
    "\n",
    "import numpy as np # linear algebra\n",
    "import pandas as pd # data processing, CSV file I/O (e.g. pd.read_csv)\n",
    "\n",
    "# Input data files are available in the \"../input/\" directory.\n",
    "# For example, running this (by clicking run or pressing Shift+Enter) will list the files in the input directory\n",
    "\n",
    "from subprocess import check_output\n",
    "# print(check_output([\"ls\", \"data\"]).decode(\"utf8\"))\n",
    "\n",
    "# Any results you write to the current directory are saved as output.\n",
    "\n",
    "\n",
    "from sklearn.ensemble import RandomForestClassifier\n",
    "from sklearn.model_selection import train_test_split\n",
    "from sklearn.metrics import log_loss\n",
    "%matplotlib inline\n",
    "import statistics\n",
    "from fuzzywuzzy import fuzz\n",
    "import nltk.tokenize as nt\n",
    "import nltk\n",
    "from sklearn.preprocessing import StandardScaler\n",
    "import xgboost as xgb"
   ]
  },
  {
   "cell_type": "code",
   "execution_count": 2104,
   "metadata": {},
   "outputs": [],
   "source": [
    "def remove_outliers(df):\n",
    "    # standard deviation threshold\n",
    "    sd_threshold = 1\n",
    "    \n",
    "    # Remove price outliers\n",
    "    df = df[(df.price <= 15000) & (df.price >= 1000)]\n",
    "    \n",
    "    # Remove dist from city centre outliers\n",
    "    # apporimate radius from city centre\n",
    "    NYC_RADIUS = 20\n",
    "    df = df[(df.dist_from_ctr <= 20)]\n",
    "    return df"
   ]
  },
  {
   "cell_type": "code",
   "execution_count": 2105,
   "metadata": {},
   "outputs": [],
   "source": [
    "manager_scores = {}\n",
    "def create_manager_scores(df):\n",
    "    global manager_scores\n",
    "    manager_scores = {}\n",
    "    \n",
    "    def calculate_manager_score(row):\n",
    "        manager_id = row['manager_id']\n",
    "        interest = row['interest_level']\n",
    "        \n",
    "        score_to_add = 0\n",
    "        if interest == 'high':\n",
    "            score_to_add += 3\n",
    "        elif interest == 'medium':\n",
    "            score_to_add += 2\n",
    "        elif interest == 'low':\n",
    "            score_to_add += 1\n",
    "        \n",
    "        if manager_id in manager_scores:\n",
    "            manager_scores[manager_id].append(score_to_add)\n",
    "        else:\n",
    "            manager_scores[manager_id] = [score_to_add]\n",
    "    df.apply(calculate_manager_score, axis=1)\n",
    "\n",
    "def apply_manager_scores(row):\n",
    "    manager_id = row['manager_id']\n",
    "    \n",
    "    if manager_id in manager_scores:\n",
    "        row['manager_score'] = sum(manager_scores[manager_id])/len(manager_scores[manager_id])\n",
    "    else:\n",
    "        row['manager_score'] = 0\n",
    "        \n",
    "    return row\n",
    "\n"
   ]
  },
  {
   "cell_type": "code",
   "execution_count": 2106,
   "metadata": {},
   "outputs": [],
   "source": [
    "building_scores = {}\n",
    "def create_building_scores(df):\n",
    "    global building_scores\n",
    "    building_scores = {}\n",
    "    \n",
    "    def calculate_building_score(row):\n",
    "        building_id = row['building_id']\n",
    "        interest = row['interest_level']\n",
    "        \n",
    "        score_to_add = 0\n",
    "        if interest == 'high':\n",
    "            score_to_add += 3\n",
    "        elif interest == 'medium':\n",
    "            score_to_add += 2\n",
    "        elif interest == 'low':\n",
    "            score_to_add += 1\n",
    "        \n",
    "        if building_id in building_scores:\n",
    "            building_scores[building_id].append(score_to_add)\n",
    "        else:\n",
    "            building_scores[building_id] = [score_to_add]\n",
    "        \n",
    "    df.apply(calculate_building_score, axis=1)\n",
    "    \n",
    "    # NOTE : Building ID '0' seem to be missing data issue | Assigning 0 score to building id 0   \n",
    "    building_scores['0'] = [0]\n",
    "    \n",
    "def apply_building_scores(row):\n",
    "    building_id = row['building_id']\n",
    "    if building_id in building_scores:\n",
    "        row['building_score'] = sum(building_scores[building_id])/len(building_scores[building_id])\n",
    "    else:\n",
    "        row['building_score'] = 0\n",
    "        \n",
    "    return row"
   ]
  },
  {
   "cell_type": "code",
   "execution_count": 2107,
   "metadata": {},
   "outputs": [],
   "source": [
    "def price_per_bedroom(row):\n",
    "    bedrooms = row['bedrooms']\n",
    "    if bedrooms == 0:\n",
    "        price_per_bedroom = 0\n",
    "    else:\n",
    "        price_per_bedroom = row['price'] * 1.00 / bedrooms\n",
    "    row['price_per_bedroom'] = price_per_bedroom\n",
    "    return row"
   ]
  },
  {
   "cell_type": "code",
   "execution_count": 2108,
   "metadata": {},
   "outputs": [],
   "source": [
    "def price_per_bathroom(row):\n",
    "    bathrooms = row['bathrooms']\n",
    "    if bathrooms == 0:\n",
    "        price_per_bathroom = 0\n",
    "    else:\n",
    "        price_per_bathroom = row['price'] * 1.00 / bathrooms\n",
    "    row['price_per_bathroom'] = price_per_bathroom\n",
    "    return row"
   ]
  },
  {
   "cell_type": "code",
   "execution_count": 2109,
   "metadata": {},
   "outputs": [],
   "source": [
    "def price_per_total_room(row):\n",
    "    rooms = row['total_rooms']\n",
    "    if rooms == 0:\n",
    "        price_per_total_rooms = 0\n",
    "    else:\n",
    "        price_per_total_rooms = row['price'] * 1.00 / rooms\n",
    "    row['price_per_total_rooms'] = price_per_total_rooms\n",
    "    return row"
   ]
  },
  {
   "cell_type": "code",
   "execution_count": 2110,
   "metadata": {},
   "outputs": [],
   "source": [
    "def bath_bed_ratio(row):\n",
    "    bedrooms = row['bedrooms']\n",
    "    bathrooms = row['bathrooms']\n",
    "    if bedrooms == 0:\n",
    "        bath_bed_ratio = bathrooms\n",
    "    else:\n",
    "        bath_bed_ratio = bathrooms/bedrooms\n",
    "    \n",
    "    row['bath_bed_ratio'] = bath_bed_ratio\n",
    "    return row"
   ]
  },
  {
   "cell_type": "code",
   "execution_count": 2111,
   "metadata": {},
   "outputs": [],
   "source": [
    "# Key : Feature in data | Value : column name to be created for category variable\n",
    "\n",
    "home_features_dict = {'Elevator': 'has_elevator',\n",
    " 'Cats Allowed': 'has_cats_allowed',\n",
    " 'Hardwood Floors': 'has_hardwood_floors',\n",
    " 'Dogs Allowed': 'has_dogs_allowed',\n",
    " 'Doorman': 'has_doorman',\n",
    " 'Dishwasher': 'has_dishwasher',\n",
    " 'No Fee': 'has_no_fee',\n",
    " 'Laundry in Building': 'has_laundry_in_building',\n",
    " 'Fitness Center': 'has_fitness_center',\n",
    " 'Pre-War': 'has_pre-war',\n",
    " 'Laundry in Unit': 'has_laundry_in_unit',\n",
    " 'Roof Deck': 'has_roof_deck',\n",
    " 'Outdoor Space': 'has_outdoor_space',\n",
    " 'Dining Room': 'has_dining_room',\n",
    " 'High Speed Internet': 'has_high_speed_internet',\n",
    " 'Balcony': 'has_balcony',\n",
    " 'Swimming Pool': 'has_swimming_pool',\n",
    " 'Laundry In Building': 'has_laundry_in_building',\n",
    " 'New Construction': 'has_new_construction',\n",
    " 'Terrace': 'has_terrace',\n",
    " 'Exclusive': 'has_exclusive',\n",
    " 'Loft': 'has_loft',\n",
    " 'Garden/Patio': 'has_garden/patio',\n",
    " 'Wheelchair Access': 'has_wheelchair_access',\n",
    " 'Common Outdoor Space': 'has_common_outdoor_space'}\n",
    "\n",
    "def process_home_features(df):\n",
    "    # Add columns for popular features\n",
    "    for key, val in home_features_dict.items():\n",
    "        df[val] = 0\n",
    "        \n",
    "    def update_popular_feature_cols(row):\n",
    "        features = row['features']\n",
    "        for feature in features:\n",
    "            if feature in home_features_dict:\n",
    "                row[home_features_dict[feature]] = 1\n",
    "\n",
    "        return row\n",
    "    \n",
    "    df = df.apply(update_popular_feature_cols, axis=1)\n",
    "    return df"
   ]
  },
  {
   "cell_type": "code",
   "execution_count": 2112,
   "metadata": {},
   "outputs": [],
   "source": [
    "def create_has_photos_has_description(row):\n",
    "    row['has_photos'] = 1 if row['num_photos'] > 0 else 0\n",
    "    row['has_description'] = 1 if row['num_description_words'] > 0 else 0\n",
    "    return row"
   ]
  },
  {
   "cell_type": "code",
   "execution_count": 2113,
   "metadata": {},
   "outputs": [],
   "source": [
    "import geopy.distance\n",
    "def distance_from_centre(row):\n",
    "    centre = (40.718, -74.008)\n",
    "    lat_long = (row['latitude'], row['longitude'])\n",
    "    distance = geopy.distance.geodesic(centre, lat_long).miles\n",
    "    row['dist_from_ctr'] = distance\n",
    "    return row"
   ]
  },
  {
   "cell_type": "code",
   "execution_count": 2114,
   "metadata": {},
   "outputs": [],
   "source": [
    "def street_and_display_address_similarity(row):\n",
    "    street_ad = row['street_address'].lower()\n",
    "    display_ad = row['display_address'].lower()\n",
    "    row['address_similarity'] = 0 if (fuzz.ratio(street_ad, display_ad)/100) <= 0.5 else 1\n",
    "    return row"
   ]
  },
  {
   "cell_type": "code",
   "execution_count": 2115,
   "metadata": {},
   "outputs": [],
   "source": [
    "def get_num_adjectives(text):\n",
    "    if not text:\n",
    "        return 0\n",
    "    ss=nt.sent_tokenize(text)\n",
    "    tokenized_sent=[nt.word_tokenize(sent) for sent in ss]\n",
    "    pos_sentences=[nltk.pos_tag(sent) for sent in tokenized_sent]\n",
    "    pos_sentences\n",
    "    adjectives = 0\n",
    "    for pos in pos_sentences:\n",
    "        for pair in pos:\n",
    "            tag = pair[1]\n",
    "            if tag in ['JJ', 'JJR', 'JJS']:\n",
    "                adjectives += 1\n",
    "\n",
    "    return adjectives"
   ]
  },
  {
   "cell_type": "code",
   "execution_count": 2116,
   "metadata": {},
   "outputs": [],
   "source": [
    "def add_adjectives_column(row):\n",
    "    description = row[\"description\"]\n",
    "    row['num_adjectives_description'] = get_num_adjectives(description)\n",
    "    return row"
   ]
  },
  {
   "cell_type": "code",
   "execution_count": 2117,
   "metadata": {},
   "outputs": [],
   "source": [
    "def bucket_hour(hour):\n",
    "    if hour > 4 and hour <= 10:\n",
    "        return 'morning'\n",
    "    elif hour > 10 and hour <= 16:\n",
    "        return 'noon'\n",
    "    elif hour > 16 and hour <= 22:\n",
    "        return 'evening'\n",
    "    else:\n",
    "        return 'night'"
   ]
  },
  {
   "cell_type": "markdown",
   "metadata": {},
   "source": [
    "### One hot encoder"
   ]
  },
  {
   "cell_type": "code",
   "execution_count": 2118,
   "metadata": {},
   "outputs": [],
   "source": [
    "cat_dummies = set()\n",
    "def one_hot_encode(df, cols):\n",
    "    # Get one hot encoding of column\n",
    "    df_processed = pd.get_dummies(df, prefix_sep=\"__\",\n",
    "                              columns=cols)\n",
    "    # save all categorical variables\n",
    "    global cat_dummies\n",
    "    cat_dummies = set([col for col in df_processed \n",
    "               if \"__\" in col \n",
    "               and col.split(\"__\")[0] in cols])\n",
    "    \n",
    "    return df_processed"
   ]
  },
  {
   "cell_type": "markdown",
   "metadata": {},
   "source": [
    "## Feature Engineering"
   ]
  },
  {
   "cell_type": "code",
   "execution_count": 2119,
   "metadata": {},
   "outputs": [],
   "source": [
    "def feature_engineering(df):\n",
    "    df[\"num_photos\"] = df[\"photos\"].apply(len)\n",
    "    df[\"num_features\"] = df[\"features\"].apply(len)\n",
    "    df[\"num_description_words\"] = df[\"description\"].apply(lambda x: len(x.split(\" \")))\n",
    "\n",
    "    # Create date month year\n",
    "    df[\"created\"] = pd.to_datetime(df[\"created\"])\n",
    "    df[\"created_month\"] = df[\"created\"].dt.month\n",
    "    df[\"created_day\"] = df[\"created\"].dt.day\n",
    "    df[\"created_hour\"] = df[\"created\"].dt.hour\n",
    "    df[\"created_day_of_week\"] = df[\"created\"].dt.dayofweek\n",
    "    df[\"created_day_of_month\"] = df[\"created\"].dt.day\n",
    "    df['is_weekday'] = ((df.created_day_of_week) // 5 == 1).astype(float)\n",
    "    df = df.apply(apply_manager_scores, axis=1)\n",
    "    df = df.apply(price_per_bedroom, axis=1)\n",
    "    df = process_home_features(df)\n",
    "    df = df.apply(distance_from_centre, axis=1)\n",
    "    \n",
    "    # if length is more than 2 - has address\n",
    "    df['has_display_address'] = df['display_address'].apply(lambda x : 1 if len(x) > 2 else 0)\n",
    "    df['has_street_address'] = df['street_address'].apply(lambda x : 1 if len(x) > 2 else 0)\n",
    "    df['total_rooms'] = df['bedrooms'] + df['bathrooms']\n",
    "    df = df.apply(price_per_total_room, axis=1)\n",
    "    df = df.apply(apply_building_scores, axis=1)\n",
    "    \n",
    "    # One hot encodings\n",
    "    df = one_hot_encode(df, ['created_hour', 'created_month'])\n",
    "    # Didn't work\n",
    "    # df = df.apply(create_has_photos_has_description, axis=1)\n",
    "    # df = df.apply(price_per_bathroom, axis=1) \n",
    "    # df = df.apply(bath_bed_ratio, axis=1)\n",
    "    # df[\"bed_bath_differnce\"] = df['bedrooms'] - df['bathrooms']\n",
    "    # df[\"bed_bath_sum\"] = df[\"bedrooms\"] + df['bathrooms']\n",
    "    return df"
   ]
  },
  {
   "cell_type": "code",
   "execution_count": 2127,
   "metadata": {},
   "outputs": [],
   "source": [
    "# num_feats = [\"bathrooms\", \"bedrooms\", \"latitude\", \"longitude\", \"price\",\n",
    "    #              \"num_photos\", \"num_features\", \"num_description_words\",\n",
    "    #              \"created_year\", \"created_month\", \"created_day\"]\n",
    "def get_feature_list():\n",
    "    num_feats = [\"bathrooms\", \n",
    "             \"bedrooms\", \n",
    "             \"latitude\", \n",
    "             \"longitude\", \n",
    "             \"price\",\n",
    "             \"num_photos\", \n",
    "             \"num_features\", \n",
    "             \"num_description_words\",\n",
    "             \"created_day_of_month\",\n",
    "             \"is_weekday\",\n",
    "             \"manager_score\",\n",
    "#              \"building_score\",\n",
    "#              \"price_per_bedroom\",\n",
    "             \"dist_from_ctr\",\n",
    "             \"has_display_address\", \n",
    "             \"has_street_address\",\n",
    "             \"total_rooms\",\n",
    "             \"price_per_total_rooms\"\n",
    "#              \"num_adjectives_description\"\n",
    "            ]\n",
    "    \n",
    "    # Add one hot encoded variables\n",
    "    global cat_dummies\n",
    "    num_feats.extend(cat_dummies)\n",
    "    \n",
    "    # add names of house features\n",
    "    num_feats.extend(list(home_features_dict.values()))\n",
    "    pprint(f'Features : {num_feats}')\n",
    "    return num_feats"
   ]
  },
  {
   "cell_type": "markdown",
   "metadata": {},
   "source": [
    "### Read Data"
   ]
  },
  {
   "cell_type": "code",
   "execution_count": 2121,
   "metadata": {
    "scrolled": true
   },
   "outputs": [
    {
     "name": "stdout",
     "output_type": "stream",
     "text": [
      "(49352, 15)\n"
     ]
    },
    {
     "data": {
      "text/html": [
       "<div>\n",
       "<style scoped>\n",
       "    .dataframe tbody tr th:only-of-type {\n",
       "        vertical-align: middle;\n",
       "    }\n",
       "\n",
       "    .dataframe tbody tr th {\n",
       "        vertical-align: top;\n",
       "    }\n",
       "\n",
       "    .dataframe thead th {\n",
       "        text-align: right;\n",
       "    }\n",
       "</style>\n",
       "<table border=\"1\" class=\"dataframe\">\n",
       "  <thead>\n",
       "    <tr style=\"text-align: right;\">\n",
       "      <th></th>\n",
       "      <th>bathrooms</th>\n",
       "      <th>bedrooms</th>\n",
       "      <th>latitude</th>\n",
       "      <th>listing_id</th>\n",
       "      <th>longitude</th>\n",
       "      <th>price</th>\n",
       "    </tr>\n",
       "  </thead>\n",
       "  <tbody>\n",
       "    <tr>\n",
       "      <th>count</th>\n",
       "      <td>49352.00000</td>\n",
       "      <td>49352.000000</td>\n",
       "      <td>49352.000000</td>\n",
       "      <td>4.935200e+04</td>\n",
       "      <td>49352.000000</td>\n",
       "      <td>4.935200e+04</td>\n",
       "    </tr>\n",
       "    <tr>\n",
       "      <th>mean</th>\n",
       "      <td>1.21218</td>\n",
       "      <td>1.541640</td>\n",
       "      <td>40.741545</td>\n",
       "      <td>7.024055e+06</td>\n",
       "      <td>-73.955716</td>\n",
       "      <td>3.830174e+03</td>\n",
       "    </tr>\n",
       "    <tr>\n",
       "      <th>std</th>\n",
       "      <td>0.50142</td>\n",
       "      <td>1.115018</td>\n",
       "      <td>0.638535</td>\n",
       "      <td>1.262746e+05</td>\n",
       "      <td>1.177912</td>\n",
       "      <td>2.206687e+04</td>\n",
       "    </tr>\n",
       "    <tr>\n",
       "      <th>min</th>\n",
       "      <td>0.00000</td>\n",
       "      <td>0.000000</td>\n",
       "      <td>0.000000</td>\n",
       "      <td>6.811957e+06</td>\n",
       "      <td>-118.271000</td>\n",
       "      <td>4.300000e+01</td>\n",
       "    </tr>\n",
       "    <tr>\n",
       "      <th>25%</th>\n",
       "      <td>1.00000</td>\n",
       "      <td>1.000000</td>\n",
       "      <td>40.728300</td>\n",
       "      <td>6.915888e+06</td>\n",
       "      <td>-73.991700</td>\n",
       "      <td>2.500000e+03</td>\n",
       "    </tr>\n",
       "    <tr>\n",
       "      <th>50%</th>\n",
       "      <td>1.00000</td>\n",
       "      <td>1.000000</td>\n",
       "      <td>40.751800</td>\n",
       "      <td>7.021070e+06</td>\n",
       "      <td>-73.977900</td>\n",
       "      <td>3.150000e+03</td>\n",
       "    </tr>\n",
       "    <tr>\n",
       "      <th>75%</th>\n",
       "      <td>1.00000</td>\n",
       "      <td>2.000000</td>\n",
       "      <td>40.774300</td>\n",
       "      <td>7.128733e+06</td>\n",
       "      <td>-73.954800</td>\n",
       "      <td>4.100000e+03</td>\n",
       "    </tr>\n",
       "    <tr>\n",
       "      <th>max</th>\n",
       "      <td>10.00000</td>\n",
       "      <td>8.000000</td>\n",
       "      <td>44.883500</td>\n",
       "      <td>7.753784e+06</td>\n",
       "      <td>0.000000</td>\n",
       "      <td>4.490000e+06</td>\n",
       "    </tr>\n",
       "  </tbody>\n",
       "</table>\n",
       "</div>"
      ],
      "text/plain": [
       "         bathrooms      bedrooms      latitude    listing_id     longitude  \\\n",
       "count  49352.00000  49352.000000  49352.000000  4.935200e+04  49352.000000   \n",
       "mean       1.21218      1.541640     40.741545  7.024055e+06    -73.955716   \n",
       "std        0.50142      1.115018      0.638535  1.262746e+05      1.177912   \n",
       "min        0.00000      0.000000      0.000000  6.811957e+06   -118.271000   \n",
       "25%        1.00000      1.000000     40.728300  6.915888e+06    -73.991700   \n",
       "50%        1.00000      1.000000     40.751800  7.021070e+06    -73.977900   \n",
       "75%        1.00000      2.000000     40.774300  7.128733e+06    -73.954800   \n",
       "max       10.00000      8.000000     44.883500  7.753784e+06      0.000000   \n",
       "\n",
       "              price  \n",
       "count  4.935200e+04  \n",
       "mean   3.830174e+03  \n",
       "std    2.206687e+04  \n",
       "min    4.300000e+01  \n",
       "25%    2.500000e+03  \n",
       "50%    3.150000e+03  \n",
       "75%    4.100000e+03  \n",
       "max    4.490000e+06  "
      ]
     },
     "execution_count": 2121,
     "metadata": {},
     "output_type": "execute_result"
    }
   ],
   "source": [
    "df = pd.read_json(open(\"data/train.json\", \"r\"))\n",
    "print(df.shape)\n",
    "df.describe()"
   ]
  },
  {
   "cell_type": "markdown",
   "metadata": {},
   "source": [
    "### Remove Outliers"
   ]
  },
  {
   "cell_type": "code",
   "execution_count": 2122,
   "metadata": {},
   "outputs": [],
   "source": [
    "create_manager_scores(df)\n",
    "create_building_scores(df)"
   ]
  },
  {
   "cell_type": "code",
   "execution_count": 2123,
   "metadata": {},
   "outputs": [
    {
     "name": "stderr",
     "output_type": "stream",
     "text": [
      "/Users/vipul/anaconda3/lib/python3.7/site-packages/ipykernel_launcher.py:5: DeprecationWarning: Vincenty is deprecated and is going to be removed in geopy 2.0. Use `geopy.distance.geodesic` (or the default `geopy.distance.distance`) instead, which is more accurate and always converges.\n",
      "  \"\"\"\n"
     ]
    }
   ],
   "source": [
    "df = feature_engineering(df)"
   ]
  },
  {
   "cell_type": "code",
   "execution_count": 2124,
   "metadata": {},
   "outputs": [
    {
     "data": {
      "text/plain": [
       "count    49352.000000\n",
       "mean         1.197115\n",
       "std          0.654693\n",
       "min          0.000000\n",
       "25%          1.000000\n",
       "50%          1.272109\n",
       "75%          1.500000\n",
       "max          3.000000\n",
       "Name: building_score, dtype: float64"
      ]
     },
     "execution_count": 2124,
     "metadata": {},
     "output_type": "execute_result"
    }
   ],
   "source": [
    "df['building_score'].describe()"
   ]
  },
  {
   "cell_type": "code",
   "execution_count": 2125,
   "metadata": {},
   "outputs": [
    {
     "data": {
      "text/plain": [
       "(49352, 81)"
      ]
     },
     "execution_count": 2125,
     "metadata": {},
     "output_type": "execute_result"
    }
   ],
   "source": [
    "scaler = StandardScaler()\n",
    "df.shape"
   ]
  },
  {
   "cell_type": "markdown",
   "metadata": {},
   "source": [
    "### Train Model"
   ]
  },
  {
   "cell_type": "code",
   "execution_count": 2128,
   "metadata": {},
   "outputs": [
    {
     "name": "stdout",
     "output_type": "stream",
     "text": [
      "(\"Features : ['bathrooms', 'bedrooms', 'latitude', 'longitude', 'price', \"\n",
      " \"'num_photos', 'num_features', 'num_description_words', \"\n",
      " \"'created_day_of_month', 'is_weekday', 'manager_score', 'dist_from_ctr', \"\n",
      " \"'has_display_address', 'has_street_address', 'total_rooms', \"\n",
      " \"'price_per_total_rooms', 'created_month__5', 'created_hour__1', \"\n",
      " \"'created_hour__2', 'created_hour__8', 'created_hour__23', \"\n",
      " \"'created_hour__19', 'created_hour__0', 'created_hour__9', \"\n",
      " \"'created_hour__12', 'created_hour__3', 'created_hour__21', \"\n",
      " \"'created_hour__4', 'created_hour__5', 'created_hour__22', \"\n",
      " \"'created_hour__10', 'created_month__4', 'created_hour__13', \"\n",
      " \"'created_hour__16', 'created_hour__20', 'created_hour__11', \"\n",
      " \"'created_hour__17', 'created_hour__18', 'created_hour__6', \"\n",
      " \"'created_hour__14', 'created_month__6', 'created_hour__15', \"\n",
      " \"'created_hour__7', 'has_elevator', 'has_cats_allowed', \"\n",
      " \"'has_hardwood_floors', 'has_dogs_allowed', 'has_doorman', 'has_dishwasher', \"\n",
      " \"'has_no_fee', 'has_laundry_in_building', 'has_fitness_center', \"\n",
      " \"'has_pre-war', 'has_laundry_in_unit', 'has_roof_deck', 'has_outdoor_space', \"\n",
      " \"'has_dining_room', 'has_high_speed_internet', 'has_balcony', \"\n",
      " \"'has_swimming_pool', 'has_laundry_in_building', 'has_new_construction', \"\n",
      " \"'has_terrace', 'has_exclusive', 'has_loft', 'has_garden/patio', \"\n",
      " \"'has_wheelchair_access', 'has_common_outdoor_space']\")\n",
      "Loss : 0.5389114234780504\n"
     ]
    }
   ],
   "source": [
    "# shuffle dataframe\n",
    "df = df.sample(frac=1).reset_index(drop=True)\n",
    "\n",
    "X = df[get_feature_list()]\n",
    "y = df[\"interest_level\"]\n",
    "X.head()\n",
    "X = scaler.fit_transform(X)\n",
    "X_train, X_val, y_train, y_val = train_test_split(X, y, test_size=0.20)\n",
    "\n",
    "\n",
    "clf = RandomForestClassifier(n_estimators=1000)\n",
    "clf.fit(X_train, y_train)\n",
    "y_val_pred = clf.predict_proba(X_val)\n",
    "\n",
    "# calculate training loss\n",
    "loss = log_loss(y_val, y_val_pred)\n",
    "print(f'Loss : {loss}')"
   ]
  },
  {
   "cell_type": "code",
   "execution_count": 2130,
   "metadata": {},
   "outputs": [
    {
     "name": "stdout",
     "output_type": "stream",
     "text": [
      "(\"Features : ['bathrooms', 'bedrooms', 'latitude', 'longitude', 'price', \"\n",
      " \"'num_photos', 'num_features', 'num_description_words', \"\n",
      " \"'created_day_of_month', 'is_weekday', 'manager_score', 'dist_from_ctr', \"\n",
      " \"'has_display_address', 'has_street_address', 'total_rooms', \"\n",
      " \"'price_per_total_rooms', 'created_month__5', 'created_hour__1', \"\n",
      " \"'created_hour__2', 'created_hour__8', 'created_hour__23', \"\n",
      " \"'created_hour__19', 'created_hour__0', 'created_hour__9', \"\n",
      " \"'created_hour__12', 'created_hour__3', 'created_hour__21', \"\n",
      " \"'created_hour__4', 'created_hour__5', 'created_hour__22', \"\n",
      " \"'created_hour__10', 'created_month__4', 'created_hour__13', \"\n",
      " \"'created_hour__16', 'created_hour__20', 'created_hour__11', \"\n",
      " \"'created_hour__17', 'created_hour__18', 'created_hour__6', \"\n",
      " \"'created_hour__14', 'created_month__6', 'created_hour__15', \"\n",
      " \"'created_hour__7', 'has_elevator', 'has_cats_allowed', \"\n",
      " \"'has_hardwood_floors', 'has_dogs_allowed', 'has_doorman', 'has_dishwasher', \"\n",
      " \"'has_no_fee', 'has_laundry_in_building', 'has_fitness_center', \"\n",
      " \"'has_pre-war', 'has_laundry_in_unit', 'has_roof_deck', 'has_outdoor_space', \"\n",
      " \"'has_dining_room', 'has_high_speed_internet', 'has_balcony', \"\n",
      " \"'has_swimming_pool', 'has_laundry_in_building', 'has_new_construction', \"\n",
      " \"'has_terrace', 'has_exclusive', 'has_loft', 'has_garden/patio', \"\n",
      " \"'has_wheelchair_access', 'has_common_outdoor_space']\")\n"
     ]
    },
    {
     "data": {
      "text/plain": [
       "<matplotlib.axes._subplots.AxesSubplot at 0x1aca6a8b00>"
      ]
     },
     "execution_count": 2130,
     "metadata": {},
     "output_type": "execute_result"
    },
    {
     "data": {
      "image/png": "[encoded data removed]",
      "text/plain": [
       "<Figure size 432x288 with 1 Axes>"
      ]
     },
     "metadata": {
      "needs_background": "light"
     },
     "output_type": "display_data"
    }
   ],
   "source": [
    "pd.Series(index = get_feature_list(), data = clf.feature_importances_).sort_values().plot(kind = 'bar')"
   ]
  },
  {
   "cell_type": "code",
   "execution_count": null,
   "metadata": {},
   "outputs": [],
   "source": [
    "X.shape"
   ]
  },
  {
   "cell_type": "markdown",
   "metadata": {},
   "source": [
    "## Making predictions on test data"
   ]
  },
  {
   "cell_type": "markdown",
   "metadata": {},
   "source": [
    "### Read and feature engineer"
   ]
  },
  {
   "cell_type": "code",
   "execution_count": 2131,
   "metadata": {},
   "outputs": [
    {
     "name": "stderr",
     "output_type": "stream",
     "text": [
      "/Users/vipul/anaconda3/lib/python3.7/site-packages/ipykernel_launcher.py:5: DeprecationWarning: Vincenty is deprecated and is going to be removed in geopy 2.0. Use `geopy.distance.geodesic` (or the default `geopy.distance.distance`) instead, which is more accurate and always converges.\n",
      "  \"\"\"\n"
     ]
    }
   ],
   "source": [
    "test_df = pd.read_json(open(\"data/test.json\", \"r\"))\n",
    "test_df = feature_engineering(test_df)"
   ]
  },
  {
   "cell_type": "code",
   "execution_count": 2138,
   "metadata": {},
   "outputs": [
    {
     "name": "stdout",
     "output_type": "stream",
     "text": [
      "(\"Features : ['bathrooms', 'bedrooms', 'latitude', 'longitude', 'price', \"\n",
      " \"'num_photos', 'num_features', 'num_description_words', \"\n",
      " \"'created_day_of_month', 'is_weekday', 'manager_score', 'dist_from_ctr', \"\n",
      " \"'has_display_address', 'has_street_address', 'total_rooms', \"\n",
      " \"'price_per_total_rooms', 'created_month__5', 'created_hour__1', \"\n",
      " \"'created_hour__2', 'created_hour__8', 'created_hour__23', \"\n",
      " \"'created_hour__19', 'created_hour__0', 'created_hour__9', \"\n",
      " \"'created_hour__12', 'created_hour__3', 'created_hour__21', \"\n",
      " \"'created_hour__4', 'created_hour__5', 'created_hour__22', \"\n",
      " \"'created_hour__10', 'created_month__4', 'created_hour__13', \"\n",
      " \"'created_hour__16', 'created_hour__20', 'created_hour__11', \"\n",
      " \"'created_hour__17', 'created_hour__18', 'created_hour__6', \"\n",
      " \"'created_hour__14', 'created_month__6', 'created_hour__15', \"\n",
      " \"'created_hour__7', 'has_elevator', 'has_cats_allowed', \"\n",
      " \"'has_hardwood_floors', 'has_dogs_allowed', 'has_doorman', 'has_dishwasher', \"\n",
      " \"'has_no_fee', 'has_laundry_in_building', 'has_fitness_center', \"\n",
      " \"'has_pre-war', 'has_laundry_in_unit', 'has_roof_deck', 'has_outdoor_space', \"\n",
      " \"'has_dining_room', 'has_high_speed_internet', 'has_balcony', \"\n",
      " \"'has_swimming_pool', 'has_laundry_in_building', 'has_new_construction', \"\n",
      " \"'has_terrace', 'has_exclusive', 'has_loft', 'has_garden/patio', \"\n",
      " \"'has_wheelchair_access', 'has_common_outdoor_space']\")\n"
     ]
    },
    {
     "data": {
      "text/html": [
       "<div>\n",
       "<style scoped>\n",
       "    .dataframe tbody tr th:only-of-type {\n",
       "        vertical-align: middle;\n",
       "    }\n",
       "\n",
       "    .dataframe tbody tr th {\n",
       "        vertical-align: top;\n",
       "    }\n",
       "\n",
       "    .dataframe thead th {\n",
       "        text-align: right;\n",
       "    }\n",
       "</style>\n",
       "<table border=\"1\" class=\"dataframe\">\n",
       "  <thead>\n",
       "    <tr style=\"text-align: right;\">\n",
       "      <th></th>\n",
       "      <th>bathrooms</th>\n",
       "      <th>bedrooms</th>\n",
       "      <th>latitude</th>\n",
       "      <th>longitude</th>\n",
       "      <th>price</th>\n",
       "      <th>num_photos</th>\n",
       "      <th>num_features</th>\n",
       "      <th>num_description_words</th>\n",
       "      <th>created_day_of_month</th>\n",
       "      <th>is_weekday</th>\n",
       "      <th>...</th>\n",
       "      <th>has_balcony</th>\n",
       "      <th>has_swimming_pool</th>\n",
       "      <th>has_laundry_in_building</th>\n",
       "      <th>has_new_construction</th>\n",
       "      <th>has_terrace</th>\n",
       "      <th>has_exclusive</th>\n",
       "      <th>has_loft</th>\n",
       "      <th>has_garden/patio</th>\n",
       "      <th>has_wheelchair_access</th>\n",
       "      <th>has_common_outdoor_space</th>\n",
       "    </tr>\n",
       "  </thead>\n",
       "  <tbody>\n",
       "    <tr>\n",
       "      <th>count</th>\n",
       "      <td>74659.000000</td>\n",
       "      <td>74659.000000</td>\n",
       "      <td>74659.000000</td>\n",
       "      <td>74659.000000</td>\n",
       "      <td>7.465900e+04</td>\n",
       "      <td>74659.000000</td>\n",
       "      <td>74659.000000</td>\n",
       "      <td>74659.000000</td>\n",
       "      <td>74659.000000</td>\n",
       "      <td>74659.000000</td>\n",
       "      <td>...</td>\n",
       "      <td>74659.000000</td>\n",
       "      <td>74659.000000</td>\n",
       "      <td>74659.000000</td>\n",
       "      <td>74659.000000</td>\n",
       "      <td>74659.000000</td>\n",
       "      <td>74659.000000</td>\n",
       "      <td>74659.000000</td>\n",
       "      <td>74659.000000</td>\n",
       "      <td>74659.000000</td>\n",
       "      <td>74659.000000</td>\n",
       "    </tr>\n",
       "    <tr>\n",
       "      <th>mean</th>\n",
       "      <td>1.212915</td>\n",
       "      <td>1.544663</td>\n",
       "      <td>40.735060</td>\n",
       "      <td>-73.945282</td>\n",
       "      <td>3.749033e+03</td>\n",
       "      <td>5.620193</td>\n",
       "      <td>5.423593</td>\n",
       "      <td>90.093050</td>\n",
       "      <td>15.151623</td>\n",
       "      <td>0.235819</td>\n",
       "      <td>...</td>\n",
       "      <td>0.062243</td>\n",
       "      <td>0.059229</td>\n",
       "      <td>0.375842</td>\n",
       "      <td>0.050992</td>\n",
       "      <td>0.045098</td>\n",
       "      <td>0.044241</td>\n",
       "      <td>0.042647</td>\n",
       "      <td>0.039526</td>\n",
       "      <td>0.027257</td>\n",
       "      <td>0.026802</td>\n",
       "    </tr>\n",
       "    <tr>\n",
       "      <th>std</th>\n",
       "      <td>0.649820</td>\n",
       "      <td>1.107014</td>\n",
       "      <td>0.806687</td>\n",
       "      <td>1.487795</td>\n",
       "      <td>9.713092e+03</td>\n",
       "      <td>3.641383</td>\n",
       "      <td>3.917167</td>\n",
       "      <td>60.771831</td>\n",
       "      <td>8.245418</td>\n",
       "      <td>0.424512</td>\n",
       "      <td>...</td>\n",
       "      <td>0.241598</td>\n",
       "      <td>0.236055</td>\n",
       "      <td>0.484343</td>\n",
       "      <td>0.219983</td>\n",
       "      <td>0.207521</td>\n",
       "      <td>0.205632</td>\n",
       "      <td>0.202062</td>\n",
       "      <td>0.194845</td>\n",
       "      <td>0.162833</td>\n",
       "      <td>0.161505</td>\n",
       "    </tr>\n",
       "    <tr>\n",
       "      <th>min</th>\n",
       "      <td>0.000000</td>\n",
       "      <td>0.000000</td>\n",
       "      <td>0.000000</td>\n",
       "      <td>-121.488000</td>\n",
       "      <td>1.000000e+00</td>\n",
       "      <td>0.000000</td>\n",
       "      <td>0.000000</td>\n",
       "      <td>1.000000</td>\n",
       "      <td>1.000000</td>\n",
       "      <td>0.000000</td>\n",
       "      <td>...</td>\n",
       "      <td>0.000000</td>\n",
       "      <td>0.000000</td>\n",
       "      <td>0.000000</td>\n",
       "      <td>0.000000</td>\n",
       "      <td>0.000000</td>\n",
       "      <td>0.000000</td>\n",
       "      <td>0.000000</td>\n",
       "      <td>0.000000</td>\n",
       "      <td>0.000000</td>\n",
       "      <td>0.000000</td>\n",
       "    </tr>\n",
       "    <tr>\n",
       "      <th>25%</th>\n",
       "      <td>1.000000</td>\n",
       "      <td>1.000000</td>\n",
       "      <td>40.727800</td>\n",
       "      <td>-73.991800</td>\n",
       "      <td>2.495000e+03</td>\n",
       "      <td>4.000000</td>\n",
       "      <td>2.000000</td>\n",
       "      <td>50.000000</td>\n",
       "      <td>8.000000</td>\n",
       "      <td>0.000000</td>\n",
       "      <td>...</td>\n",
       "      <td>0.000000</td>\n",
       "      <td>0.000000</td>\n",
       "      <td>0.000000</td>\n",
       "      <td>0.000000</td>\n",
       "      <td>0.000000</td>\n",
       "      <td>0.000000</td>\n",
       "      <td>0.000000</td>\n",
       "      <td>0.000000</td>\n",
       "      <td>0.000000</td>\n",
       "      <td>0.000000</td>\n",
       "    </tr>\n",
       "    <tr>\n",
       "      <th>50%</th>\n",
       "      <td>1.000000</td>\n",
       "      <td>1.000000</td>\n",
       "      <td>40.751600</td>\n",
       "      <td>-73.977700</td>\n",
       "      <td>3.150000e+03</td>\n",
       "      <td>5.000000</td>\n",
       "      <td>5.000000</td>\n",
       "      <td>83.000000</td>\n",
       "      <td>15.000000</td>\n",
       "      <td>0.000000</td>\n",
       "      <td>...</td>\n",
       "      <td>0.000000</td>\n",
       "      <td>0.000000</td>\n",
       "      <td>0.000000</td>\n",
       "      <td>0.000000</td>\n",
       "      <td>0.000000</td>\n",
       "      <td>0.000000</td>\n",
       "      <td>0.000000</td>\n",
       "      <td>0.000000</td>\n",
       "      <td>0.000000</td>\n",
       "      <td>0.000000</td>\n",
       "    </tr>\n",
       "    <tr>\n",
       "      <th>75%</th>\n",
       "      <td>1.000000</td>\n",
       "      <td>2.000000</td>\n",
       "      <td>40.774300</td>\n",
       "      <td>-73.954700</td>\n",
       "      <td>4.100000e+03</td>\n",
       "      <td>7.000000</td>\n",
       "      <td>8.000000</td>\n",
       "      <td>119.000000</td>\n",
       "      <td>22.000000</td>\n",
       "      <td>0.000000</td>\n",
       "      <td>...</td>\n",
       "      <td>0.000000</td>\n",
       "      <td>0.000000</td>\n",
       "      <td>1.000000</td>\n",
       "      <td>0.000000</td>\n",
       "      <td>0.000000</td>\n",
       "      <td>0.000000</td>\n",
       "      <td>0.000000</td>\n",
       "      <td>0.000000</td>\n",
       "      <td>0.000000</td>\n",
       "      <td>0.000000</td>\n",
       "    </tr>\n",
       "    <tr>\n",
       "      <th>max</th>\n",
       "      <td>112.000000</td>\n",
       "      <td>7.000000</td>\n",
       "      <td>42.872700</td>\n",
       "      <td>0.000000</td>\n",
       "      <td>1.675000e+06</td>\n",
       "      <td>50.000000</td>\n",
       "      <td>36.000000</td>\n",
       "      <td>2837.000000</td>\n",
       "      <td>31.000000</td>\n",
       "      <td>1.000000</td>\n",
       "      <td>...</td>\n",
       "      <td>1.000000</td>\n",
       "      <td>1.000000</td>\n",
       "      <td>1.000000</td>\n",
       "      <td>1.000000</td>\n",
       "      <td>1.000000</td>\n",
       "      <td>1.000000</td>\n",
       "      <td>1.000000</td>\n",
       "      <td>1.000000</td>\n",
       "      <td>1.000000</td>\n",
       "      <td>1.000000</td>\n",
       "    </tr>\n",
       "  </tbody>\n",
       "</table>\n",
       "<p>8 rows × 68 columns</p>\n",
       "</div>"
      ],
      "text/plain": [
       "          bathrooms      bedrooms      latitude     longitude         price  \\\n",
       "count  74659.000000  74659.000000  74659.000000  74659.000000  7.465900e+04   \n",
       "mean       1.212915      1.544663     40.735060    -73.945282  3.749033e+03   \n",
       "std        0.649820      1.107014      0.806687      1.487795  9.713092e+03   \n",
       "min        0.000000      0.000000      0.000000   -121.488000  1.000000e+00   \n",
       "25%        1.000000      1.000000     40.727800    -73.991800  2.495000e+03   \n",
       "50%        1.000000      1.000000     40.751600    -73.977700  3.150000e+03   \n",
       "75%        1.000000      2.000000     40.774300    -73.954700  4.100000e+03   \n",
       "max      112.000000      7.000000     42.872700      0.000000  1.675000e+06   \n",
       "\n",
       "         num_photos  num_features  num_description_words  \\\n",
       "count  74659.000000  74659.000000           74659.000000   \n",
       "mean       5.620193      5.423593              90.093050   \n",
       "std        3.641383      3.917167              60.771831   \n",
       "min        0.000000      0.000000               1.000000   \n",
       "25%        4.000000      2.000000              50.000000   \n",
       "50%        5.000000      5.000000              83.000000   \n",
       "75%        7.000000      8.000000             119.000000   \n",
       "max       50.000000     36.000000            2837.000000   \n",
       "\n",
       "       created_day_of_month    is_weekday            ...             \\\n",
       "count          74659.000000  74659.000000            ...              \n",
       "mean              15.151623      0.235819            ...              \n",
       "std                8.245418      0.424512            ...              \n",
       "min                1.000000      0.000000            ...              \n",
       "25%                8.000000      0.000000            ...              \n",
       "50%               15.000000      0.000000            ...              \n",
       "75%               22.000000      0.000000            ...              \n",
       "max               31.000000      1.000000            ...              \n",
       "\n",
       "        has_balcony  has_swimming_pool  has_laundry_in_building  \\\n",
       "count  74659.000000       74659.000000             74659.000000   \n",
       "mean       0.062243           0.059229                 0.375842   \n",
       "std        0.241598           0.236055                 0.484343   \n",
       "min        0.000000           0.000000                 0.000000   \n",
       "25%        0.000000           0.000000                 0.000000   \n",
       "50%        0.000000           0.000000                 0.000000   \n",
       "75%        0.000000           0.000000                 1.000000   \n",
       "max        1.000000           1.000000                 1.000000   \n",
       "\n",
       "       has_new_construction   has_terrace  has_exclusive      has_loft  \\\n",
       "count          74659.000000  74659.000000   74659.000000  74659.000000   \n",
       "mean               0.050992      0.045098       0.044241      0.042647   \n",
       "std                0.219983      0.207521       0.205632      0.202062   \n",
       "min                0.000000      0.000000       0.000000      0.000000   \n",
       "25%                0.000000      0.000000       0.000000      0.000000   \n",
       "50%                0.000000      0.000000       0.000000      0.000000   \n",
       "75%                0.000000      0.000000       0.000000      0.000000   \n",
       "max                1.000000      1.000000       1.000000      1.000000   \n",
       "\n",
       "       has_garden/patio  has_wheelchair_access  has_common_outdoor_space  \n",
       "count      74659.000000           74659.000000              74659.000000  \n",
       "mean           0.039526               0.027257                  0.026802  \n",
       "std            0.194845               0.162833                  0.161505  \n",
       "min            0.000000               0.000000                  0.000000  \n",
       "25%            0.000000               0.000000                  0.000000  \n",
       "50%            0.000000               0.000000                  0.000000  \n",
       "75%            0.000000               0.000000                  0.000000  \n",
       "max            1.000000               1.000000                  1.000000  \n",
       "\n",
       "[8 rows x 68 columns]"
      ]
     },
     "execution_count": 2138,
     "metadata": {},
     "output_type": "execute_result"
    }
   ],
   "source": [
    "test_df[get_feature_list()].describe()"
   ]
  },
  {
   "cell_type": "markdown",
   "metadata": {},
   "source": [
    "### Predict"
   ]
  },
  {
   "cell_type": "code",
   "execution_count": 2133,
   "metadata": {},
   "outputs": [
    {
     "name": "stdout",
     "output_type": "stream",
     "text": [
      "(\"Features : ['bathrooms', 'bedrooms', 'latitude', 'longitude', 'price', \"\n",
      " \"'num_photos', 'num_features', 'num_description_words', \"\n",
      " \"'created_day_of_month', 'is_weekday', 'manager_score', 'dist_from_ctr', \"\n",
      " \"'has_display_address', 'has_street_address', 'total_rooms', \"\n",
      " \"'price_per_total_rooms', 'created_month__5', 'created_hour__1', \"\n",
      " \"'created_hour__2', 'created_hour__8', 'created_hour__23', \"\n",
      " \"'created_hour__19', 'created_hour__0', 'created_hour__9', \"\n",
      " \"'created_hour__12', 'created_hour__3', 'created_hour__21', \"\n",
      " \"'created_hour__4', 'created_hour__5', 'created_hour__22', \"\n",
      " \"'created_hour__10', 'created_month__4', 'created_hour__13', \"\n",
      " \"'created_hour__16', 'created_hour__20', 'created_hour__11', \"\n",
      " \"'created_hour__17', 'created_hour__18', 'created_hour__6', \"\n",
      " \"'created_hour__14', 'created_month__6', 'created_hour__15', \"\n",
      " \"'created_hour__7', 'has_elevator', 'has_cats_allowed', \"\n",
      " \"'has_hardwood_floors', 'has_dogs_allowed', 'has_doorman', 'has_dishwasher', \"\n",
      " \"'has_no_fee', 'has_laundry_in_building', 'has_fitness_center', \"\n",
      " \"'has_pre-war', 'has_laundry_in_unit', 'has_roof_deck', 'has_outdoor_space', \"\n",
      " \"'has_dining_room', 'has_high_speed_internet', 'has_balcony', \"\n",
      " \"'has_swimming_pool', 'has_laundry_in_building', 'has_new_construction', \"\n",
      " \"'has_terrace', 'has_exclusive', 'has_loft', 'has_garden/patio', \"\n",
      " \"'has_wheelchair_access', 'has_common_outdoor_space']\")\n"
     ]
    }
   ],
   "source": [
    "X_test = test_df[get_feature_list()]\n",
    "X_test = scaler.transform(X_test)\n",
    "y = clf.predict_proba(X_test)\n",
    "\n",
    "labels2idx = {label: i for i, label in enumerate(clf.classes_)}\n",
    "\n",
    "sub = pd.DataFrame()\n",
    "sub[\"listing_id\"] = test_df[\"listing_id\"]\n",
    "for label in [\"high\", \"medium\", \"low\"]:\n",
    "    sub[label] = y[:, labels2idx[label]]"
   ]
  },
  {
   "cell_type": "code",
   "execution_count": 2134,
   "metadata": {},
   "outputs": [],
   "source": [
    "sub.to_csv(\"submission_rf.csv\", index=False)"
   ]
  },
  {
   "cell_type": "code",
   "execution_count": 2135,
   "metadata": {},
   "outputs": [],
   "source": [
    "submission = pd.read_csv('submission_rf.csv')"
   ]
  },
  {
   "cell_type": "code",
   "execution_count": 2136,
   "metadata": {},
   "outputs": [
    {
     "data": {
      "text/html": [
       "<div>\n",
       "<style scoped>\n",
       "    .dataframe tbody tr th:only-of-type {\n",
       "        vertical-align: middle;\n",
       "    }\n",
       "\n",
       "    .dataframe tbody tr th {\n",
       "        vertical-align: top;\n",
       "    }\n",
       "\n",
       "    .dataframe thead th {\n",
       "        text-align: right;\n",
       "    }\n",
       "</style>\n",
       "<table border=\"1\" class=\"dataframe\">\n",
       "  <thead>\n",
       "    <tr style=\"text-align: right;\">\n",
       "      <th></th>\n",
       "      <th>listing_id</th>\n",
       "      <th>high</th>\n",
       "      <th>medium</th>\n",
       "      <th>low</th>\n",
       "    </tr>\n",
       "  </thead>\n",
       "  <tbody>\n",
       "    <tr>\n",
       "      <th>0</th>\n",
       "      <td>7142618</td>\n",
       "      <td>0.073</td>\n",
       "      <td>0.456</td>\n",
       "      <td>0.471</td>\n",
       "    </tr>\n",
       "    <tr>\n",
       "      <th>1</th>\n",
       "      <td>7210040</td>\n",
       "      <td>0.041</td>\n",
       "      <td>0.131</td>\n",
       "      <td>0.828</td>\n",
       "    </tr>\n",
       "    <tr>\n",
       "      <th>2</th>\n",
       "      <td>7103890</td>\n",
       "      <td>0.084</td>\n",
       "      <td>0.430</td>\n",
       "      <td>0.486</td>\n",
       "    </tr>\n",
       "    <tr>\n",
       "      <th>3</th>\n",
       "      <td>7143442</td>\n",
       "      <td>0.157</td>\n",
       "      <td>0.456</td>\n",
       "      <td>0.387</td>\n",
       "    </tr>\n",
       "    <tr>\n",
       "      <th>4</th>\n",
       "      <td>6860601</td>\n",
       "      <td>0.023</td>\n",
       "      <td>0.224</td>\n",
       "      <td>0.753</td>\n",
       "    </tr>\n",
       "  </tbody>\n",
       "</table>\n",
       "</div>"
      ],
      "text/plain": [
       "   listing_id   high  medium    low\n",
       "0     7142618  0.073   0.456  0.471\n",
       "1     7210040  0.041   0.131  0.828\n",
       "2     7103890  0.084   0.430  0.486\n",
       "3     7143442  0.157   0.456  0.387\n",
       "4     6860601  0.023   0.224  0.753"
      ]
     },
     "execution_count": 2136,
     "metadata": {},
     "output_type": "execute_result"
    }
   ],
   "source": [
    "submission.head()"
   ]
  },
  {
   "cell_type": "code",
   "execution_count": 2139,
   "metadata": {},
   "outputs": [
    {
     "name": "stdout",
     "output_type": "stream",
     "text": [
      "(\"Features : ['bathrooms', 'bedrooms', 'latitude', 'longitude', 'price', \"\n",
      " \"'num_photos', 'num_features', 'num_description_words', \"\n",
      " \"'created_day_of_month', 'is_weekday', 'manager_score', 'dist_from_ctr', \"\n",
      " \"'has_display_address', 'has_street_address', 'total_rooms', \"\n",
      " \"'price_per_total_rooms', 'created_month__5', 'created_hour__1', \"\n",
      " \"'created_hour__2', 'created_hour__8', 'created_hour__23', \"\n",
      " \"'created_hour__19', 'created_hour__0', 'created_hour__9', \"\n",
      " \"'created_hour__12', 'created_hour__3', 'created_hour__21', \"\n",
      " \"'created_hour__4', 'created_hour__5', 'created_hour__22', \"\n",
      " \"'created_hour__10', 'created_month__4', 'created_hour__13', \"\n",
      " \"'created_hour__16', 'created_hour__20', 'created_hour__11', \"\n",
      " \"'created_hour__17', 'created_hour__18', 'created_hour__6', \"\n",
      " \"'created_hour__14', 'created_month__6', 'created_hour__15', \"\n",
      " \"'created_hour__7', 'has_elevator', 'has_cats_allowed', \"\n",
      " \"'has_hardwood_floors', 'has_dogs_allowed', 'has_doorman', 'has_dishwasher', \"\n",
      " \"'has_no_fee', 'has_laundry_in_building', 'has_fitness_center', \"\n",
      " \"'has_pre-war', 'has_laundry_in_unit', 'has_roof_deck', 'has_outdoor_space', \"\n",
      " \"'has_dining_room', 'has_high_speed_internet', 'has_balcony', \"\n",
      " \"'has_swimming_pool', 'has_laundry_in_building', 'has_new_construction', \"\n",
      " \"'has_terrace', 'has_exclusive', 'has_loft', 'has_garden/patio', \"\n",
      " \"'has_wheelchair_access', 'has_common_outdoor_space']\")\n"
     ]
    },
    {
     "data": {
      "text/plain": [
       "<matplotlib.axes._subplots.AxesSubplot at 0x1ac001af98>"
      ]
     },
     "execution_count": 2139,
     "metadata": {},
     "output_type": "execute_result"
    },
    {
     "data": {
      "image/png": "[encoded data removed]",
      "text/plain": [
       "<Figure size 432x288 with 1 Axes>"
      ]
     },
     "metadata": {
      "needs_background": "light"
     },
     "output_type": "display_data"
    }
   ],
   "source": [
    "pd.Series(index = get_feature_list(), data = clf.feature_importances_).sort_values().plot(kind = 'bar')"
   ]
  },
  {
   "cell_type": "markdown",
   "metadata": {},
   "source": [
    "## XGB"
   ]
  },
  {
   "cell_type": "code",
   "execution_count": 2140,
   "metadata": {},
   "outputs": [],
   "source": [
    "def runXGB(train_X, train_y, test_X, test_y=None, feature_names=None, seed_val=0, num_rounds=1000):\n",
    "    param = {}\n",
    "    param['objective'] = 'multi:softprob'\n",
    "    param['eta'] = 0.1\n",
    "    param['max_depth'] = 6\n",
    "    param['silent'] = 1\n",
    "    param['num_class'] = 3\n",
    "    param['eval_metric'] = \"mlogloss\"\n",
    "    param['min_child_weight'] = 1\n",
    "    param['subsample'] = 0.7\n",
    "    param['colsample_bytree'] = 0.7\n",
    "    param['seed'] = seed_val\n",
    "    num_rounds = num_rounds\n",
    "\n",
    "    plst = list(param.items())\n",
    "    xgtrain = xgb.DMatrix(train_X, label=train_y)\n",
    "\n",
    "    if test_y is not None:\n",
    "        xgtest = xgb.DMatrix(test_X, label=test_y)\n",
    "        watchlist = [ (xgtrain,'train'), (xgtest, 'test') ]\n",
    "        model = xgb.train(plst, xgtrain, num_rounds, watchlist, early_stopping_rounds=20)\n",
    "    else:\n",
    "        xgtest = xgb.DMatrix(test_X)\n",
    "        model = xgb.train(plst, xgtrain, num_rounds)\n",
    "\n",
    "    pred_test_y = model.predict(xgtest)\n",
    "    return pred_test_y, model"
   ]
  },
  {
   "cell_type": "code",
   "execution_count": 2141,
   "metadata": {},
   "outputs": [],
   "source": [
    "# X = test_df[num_feats]\n",
    "# X = scaler.transform(X)"
   ]
  },
  {
   "cell_type": "code",
   "execution_count": 2142,
   "metadata": {},
   "outputs": [],
   "source": [
    "target_num_map = {'high':0, 'medium':1, 'low':2}\n",
    "y = np.array(df['interest_level'].apply(lambda x: target_num_map[x]))\n",
    "\n",
    "preds, model = runXGB(X, y, X_test, num_rounds=400)\n",
    "out_df = pd.DataFrame(preds)\n",
    "out_df.columns = [\"high\", \"medium\", \"low\"]\n",
    "out_df[\"listing_id\"] = test_df.listing_id.values\n",
    "out_df.to_csv(\"xgb_starter.csv\", index=False)"
   ]
  },
  {
   "cell_type": "code",
   "execution_count": 2143,
   "metadata": {},
   "outputs": [
    {
     "data": {
      "text/plain": [
       "(49352, 68)"
      ]
     },
     "execution_count": 2143,
     "metadata": {},
     "output_type": "execute_result"
    }
   ],
   "source": [
    "X.shape"
   ]
  },
  {
   "cell_type": "code",
   "execution_count": 2144,
   "metadata": {},
   "outputs": [
    {
     "data": {
      "text/plain": [
       "(39481,)"
      ]
     },
     "execution_count": 2144,
     "metadata": {},
     "output_type": "execute_result"
    }
   ],
   "source": [
    "y_train.shape"
   ]
  },
  {
   "cell_type": "code",
   "execution_count": 2145,
   "metadata": {},
   "outputs": [
    {
     "ename": "KeyError",
     "evalue": "\"['created_year'] not in index\"",
     "output_type": "error",
     "traceback": [
      "\u001b[0;31m---------------------------------------------------------\u001b[0m",
      "\u001b[0;31mKeyError\u001b[0m                Traceback (most recent call last)",
      "\u001b[0;32m<ipython-input-2145-4cac840653f2>\u001b[0m in \u001b[0;36m<module>\u001b[0;34m()\u001b[0m\n\u001b[0;32m----> 1\u001b[0;31m \u001b[0mdf\u001b[0m\u001b[0;34m[\u001b[0m\u001b[0mnum_feats\u001b[0m\u001b[0;34m]\u001b[0m\u001b[0;34m.\u001b[0m\u001b[0mshape\u001b[0m\u001b[0;34m\u001b[0m\u001b[0m\n\u001b[0m",
      "\u001b[0;32m~/anaconda3/lib/python3.7/site-packages/pandas/core/frame.py\u001b[0m in \u001b[0;36m__getitem__\u001b[0;34m(self, key)\u001b[0m\n\u001b[1;32m   2680\u001b[0m         \u001b[0;32mif\u001b[0m \u001b[0misinstance\u001b[0m\u001b[0;34m(\u001b[0m\u001b[0mkey\u001b[0m\u001b[0;34m,\u001b[0m \u001b[0;34m(\u001b[0m\u001b[0mSeries\u001b[0m\u001b[0;34m,\u001b[0m \u001b[0mnp\u001b[0m\u001b[0;34m.\u001b[0m\u001b[0mndarray\u001b[0m\u001b[0;34m,\u001b[0m \u001b[0mIndex\u001b[0m\u001b[0;34m,\u001b[0m \u001b[0mlist\u001b[0m\u001b[0;34m)\u001b[0m\u001b[0;34m)\u001b[0m\u001b[0;34m:\u001b[0m\u001b[0;34m\u001b[0m\u001b[0m\n\u001b[1;32m   2681\u001b[0m             \u001b[0;31m# either boolean or fancy integer index\u001b[0m\u001b[0;34m\u001b[0m\u001b[0;34m\u001b[0m\u001b[0m\n\u001b[0;32m-> 2682\u001b[0;31m             \u001b[0;32mreturn\u001b[0m \u001b[0mself\u001b[0m\u001b[0;34m.\u001b[0m\u001b[0m_getitem_array\u001b[0m\u001b[0;34m(\u001b[0m\u001b[0mkey\u001b[0m\u001b[0;34m)\u001b[0m\u001b[0;34m\u001b[0m\u001b[0m\n\u001b[0m\u001b[1;32m   2683\u001b[0m         \u001b[0;32melif\u001b[0m \u001b[0misinstance\u001b[0m\u001b[0;34m(\u001b[0m\u001b[0mkey\u001b[0m\u001b[0;34m,\u001b[0m \u001b[0mDataFrame\u001b[0m\u001b[0;34m)\u001b[0m\u001b[0;34m:\u001b[0m\u001b[0;34m\u001b[0m\u001b[0m\n\u001b[1;32m   2684\u001b[0m             \u001b[0;32mreturn\u001b[0m \u001b[0mself\u001b[0m\u001b[0;34m.\u001b[0m\u001b[0m_getitem_frame\u001b[0m\u001b[0;34m(\u001b[0m\u001b[0mkey\u001b[0m\u001b[0;34m)\u001b[0m\u001b[0;34m\u001b[0m\u001b[0m\n",
      "\u001b[0;32m~/anaconda3/lib/python3.7/site-packages/pandas/core/frame.py\u001b[0m in \u001b[0;36m_getitem_array\u001b[0;34m(self, key)\u001b[0m\n\u001b[1;32m   2724\u001b[0m             \u001b[0;32mreturn\u001b[0m \u001b[0mself\u001b[0m\u001b[0;34m.\u001b[0m\u001b[0m_take\u001b[0m\u001b[0;34m(\u001b[0m\u001b[0mindexer\u001b[0m\u001b[0;34m,\u001b[0m \u001b[0maxis\u001b[0m\u001b[0;34m=\u001b[0m\u001b[0;36m0\u001b[0m\u001b[0;34m)\u001b[0m\u001b[0;34m\u001b[0m\u001b[0m\n\u001b[1;32m   2725\u001b[0m         \u001b[0;32melse\u001b[0m\u001b[0;34m:\u001b[0m\u001b[0;34m\u001b[0m\u001b[0m\n\u001b[0;32m-> 2726\u001b[0;31m             \u001b[0mindexer\u001b[0m \u001b[0;34m=\u001b[0m \u001b[0mself\u001b[0m\u001b[0;34m.\u001b[0m\u001b[0mloc\u001b[0m\u001b[0;34m.\u001b[0m\u001b[0m_convert_to_indexer\u001b[0m\u001b[0;34m(\u001b[0m\u001b[0mkey\u001b[0m\u001b[0;34m,\u001b[0m \u001b[0maxis\u001b[0m\u001b[0;34m=\u001b[0m\u001b[0;36m1\u001b[0m\u001b[0;34m)\u001b[0m\u001b[0;34m\u001b[0m\u001b[0m\n\u001b[0m\u001b[1;32m   2727\u001b[0m             \u001b[0;32mreturn\u001b[0m \u001b[0mself\u001b[0m\u001b[0;34m.\u001b[0m\u001b[0m_take\u001b[0m\u001b[0;34m(\u001b[0m\u001b[0mindexer\u001b[0m\u001b[0;34m,\u001b[0m \u001b[0maxis\u001b[0m\u001b[0;34m=\u001b[0m\u001b[0;36m1\u001b[0m\u001b[0;34m)\u001b[0m\u001b[0;34m\u001b[0m\u001b[0m\n\u001b[1;32m   2728\u001b[0m \u001b[0;34m\u001b[0m\u001b[0m\n",
      "\u001b[0;32m~/anaconda3/lib/python3.7/site-packages/pandas/core/indexing.py\u001b[0m in \u001b[0;36m_convert_to_indexer\u001b[0;34m(self, obj, axis, is_setter)\u001b[0m\n\u001b[1;32m   1325\u001b[0m                 \u001b[0;32mif\u001b[0m \u001b[0mmask\u001b[0m\u001b[0;34m.\u001b[0m\u001b[0many\u001b[0m\u001b[0;34m(\u001b[0m\u001b[0;34m)\u001b[0m\u001b[0;34m:\u001b[0m\u001b[0;34m\u001b[0m\u001b[0m\n\u001b[1;32m   1326\u001b[0m                     raise KeyError('{mask} not in index'\n\u001b[0;32m-> 1327\u001b[0;31m                                    .format(mask=objarr[mask]))\n\u001b[0m\u001b[1;32m   1328\u001b[0m \u001b[0;34m\u001b[0m\u001b[0m\n\u001b[1;32m   1329\u001b[0m                 \u001b[0;32mreturn\u001b[0m \u001b[0mcom\u001b[0m\u001b[0;34m.\u001b[0m\u001b[0m_values_from_object\u001b[0m\u001b[0;34m(\u001b[0m\u001b[0mindexer\u001b[0m\u001b[0;34m)\u001b[0m\u001b[0;34m\u001b[0m\u001b[0m\n",
      "\u001b[0;31mKeyError\u001b[0m: \"['created_year'] not in index\""
     ]
    }
   ],
   "source": [
    "df[num_feats].shape"
   ]
  },
  {
   "cell_type": "code",
   "execution_count": null,
   "metadata": {},
   "outputs": [],
   "source": []
  }
 ],
 "metadata": {
  "kernelspec": {
   "display_name": "Python 3",
   "language": "python",
   "name": "python3"
  },
  "language_info": {
   "codemirror_mode": {
    "name": "ipython",
    "version": 3
   },
   "file_extension": ".py",
   "mimetype": "text/x-python",
   "name": "python",
   "nbconvert_exporter": "python",
   "pygments_lexer": "ipython3",
   "version": "3.7.0"
  }
 },
 "nbformat": 4,
 "nbformat_minor": 2
}
