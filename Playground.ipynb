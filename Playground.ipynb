{
 "cells": [
  {
   "cell_type": "code",
   "execution_count": 1,
   "metadata": {
    "scrolled": true
   },
   "outputs": [
    {
     "name": "stderr",
     "output_type": "stream",
     "text": [
      "/Users/vipul/anaconda3/lib/python3.7/site-packages/sklearn/ensemble/weight_boosting.py:29: DeprecationWarning: numpy.core.umath_tests is an internal NumPy module and should not be imported. It will be removed in a future NumPy release.\n",
      "  from numpy.core.umath_tests import inner1d\n"
     ]
    }
   ],
   "source": [
    "import numpy as np \n",
    "import pandas as pd\n",
    "\n",
    "from subprocess import check_output\n",
    "\n",
    "from sklearn.ensemble import RandomForestClassifier\n",
    "from sklearn.model_selection import train_test_split\n",
    "from sklearn.metrics import log_loss\n",
    "%matplotlib inline"
   ]
  },
  {
   "cell_type": "markdown",
   "metadata": {},
   "source": [
    "### Building Id analysis"
   ]
  },
  {
   "cell_type": "code",
   "execution_count": 3,
   "metadata": {},
   "outputs": [],
   "source": [
    "data_train = pd.read_json('data/train.json')\n",
    "train_building_ids = data_train['building_id'].tolist()"
   ]
  },
  {
   "cell_type": "code",
   "execution_count": 11,
   "metadata": {},
   "outputs": [],
   "source": [
    "data_test = pd.read_json('data/test.json')\n",
    "test_building_ids = data_test['building_id'].tolist()"
   ]
  },
  {
   "cell_type": "code",
   "execution_count": 19,
   "metadata": {},
   "outputs": [
    {
     "data": {
      "text/plain": [
       "7585"
      ]
     },
     "execution_count": 19,
     "metadata": {},
     "output_type": "execute_result"
    }
   ],
   "source": [
    "# unique buidling ids in train set(~49k)\n",
    "len(set(train_building_ids))"
   ]
  },
  {
   "cell_type": "code",
   "execution_count": 20,
   "metadata": {},
   "outputs": [
    {
     "data": {
      "text/plain": [
       "9321"
      ]
     },
     "execution_count": 20,
     "metadata": {},
     "output_type": "execute_result"
    }
   ],
   "source": [
    "# unique buidling ids in train set(~74k)\n",
    "len(set(test_building_ids))"
   ]
  },
  {
   "cell_type": "code",
   "execution_count": 21,
   "metadata": {},
   "outputs": [
    {
     "data": {
      "text/plain": [
       "5271"
      ]
     },
     "execution_count": 21,
     "metadata": {},
     "output_type": "execute_result"
    }
   ],
   "source": [
    "# Common building Ids in train and test set\n",
    "len(set(train_building_ids) & set(test_building_ids))"
   ]
  },
  {
   "cell_type": "markdown",
   "metadata": {},
   "source": [
    "## Popular Features of home -  Analyses"
   ]
  },
  {
   "cell_type": "code",
   "execution_count": 24,
   "metadata": {},
   "outputs": [],
   "source": [
    "# Train data\n",
    "data = pd.read_json('data/train.json')\n",
    "train_features = data['features']\n",
    "from itertools import chain\n",
    "train_features = list(chain.from_iterable(train_features))\n",
    "s_train = set(train_features)"
   ]
  },
  {
   "cell_type": "code",
   "execution_count": 25,
   "metadata": {},
   "outputs": [],
   "source": [
    "#  Test data\n",
    "data = pd.read_json('data/test.json')\n",
    "test_features = data['features']\n",
    "from itertools import chain\n",
    "test_features = list(chain.from_iterable(test_features))\n",
    "s_test = set(test_features)"
   ]
  },
  {
   "cell_type": "code",
   "execution_count": 26,
   "metadata": {},
   "outputs": [
    {
     "data": {
      "text/plain": [
       "25"
      ]
     },
     "execution_count": 26,
     "metadata": {},
     "output_type": "execute_result"
    }
   ],
   "source": [
    "series_train = pd.Series(train_features)\n",
    "vc = series_train.value_counts()\n",
    "vc = vc[vc > 1000]\n",
    "len(vc)"
   ]
  },
  {
   "cell_type": "code",
   "execution_count": 27,
   "metadata": {},
   "outputs": [
    {
     "data": {
      "text/plain": [
       "25"
      ]
     },
     "execution_count": 27,
     "metadata": {},
     "output_type": "execute_result"
    }
   ],
   "source": [
    "series_test = pd.Series(test_features)\n",
    "test_vc = series_test.value_counts()\n",
    "test_vc = test_vc[test_vc > 1500]\n",
    "len(test_vc)"
   ]
  },
  {
   "cell_type": "code",
   "execution_count": 28,
   "metadata": {},
   "outputs": [
    {
     "data": {
      "text/plain": [
       "set()"
      ]
     },
     "execution_count": 28,
     "metadata": {},
     "output_type": "execute_result"
    }
   ],
   "source": [
    "set(vc.index.tolist()) - set(test_vc.index.tolist()) "
   ]
  },
  {
   "cell_type": "code",
   "execution_count": 29,
   "metadata": {},
   "outputs": [],
   "source": [
    "home_features = test_vc.index.tolist()"
   ]
  },
  {
   "cell_type": "code",
   "execution_count": 30,
   "metadata": {},
   "outputs": [],
   "source": [
    "home_features_col_names = ['has_' + (feature.replace(' ', '_')).lower() for feature in home_features]"
   ]
  },
  {
   "cell_type": "code",
   "execution_count": 31,
   "metadata": {},
   "outputs": [],
   "source": [
    "home_features_dict = dict(zip(home_features, home_features_col_names))"
   ]
  },
  {
   "cell_type": "code",
   "execution_count": 32,
   "metadata": {},
   "outputs": [
    {
     "data": {
      "text/plain": [
       "{'Elevator': 'has_elevator',\n",
       " 'Cats Allowed': 'has_cats_allowed',\n",
       " 'Hardwood Floors': 'has_hardwood_floors',\n",
       " 'Dogs Allowed': 'has_dogs_allowed',\n",
       " 'Doorman': 'has_doorman',\n",
       " 'Dishwasher': 'has_dishwasher',\n",
       " 'No Fee': 'has_no_fee',\n",
       " 'Laundry in Building': 'has_laundry_in_building',\n",
       " 'Fitness Center': 'has_fitness_center',\n",
       " 'Pre-War': 'has_pre-war',\n",
       " 'Laundry in Unit': 'has_laundry_in_unit',\n",
       " 'Roof Deck': 'has_roof_deck',\n",
       " 'Outdoor Space': 'has_outdoor_space',\n",
       " 'Dining Room': 'has_dining_room',\n",
       " 'High Speed Internet': 'has_high_speed_internet',\n",
       " 'Balcony': 'has_balcony',\n",
       " 'Swimming Pool': 'has_swimming_pool',\n",
       " 'Laundry In Building': 'has_laundry_in_building',\n",
       " 'New Construction': 'has_new_construction',\n",
       " 'Terrace': 'has_terrace',\n",
       " 'Exclusive': 'has_exclusive',\n",
       " 'Loft': 'has_loft',\n",
       " 'Garden/Patio': 'has_garden/patio',\n",
       " 'Wheelchair Access': 'has_wheelchair_access',\n",
       " 'Common Outdoor Space': 'has_common_outdoor_space'}"
      ]
     },
     "execution_count": 32,
     "metadata": {},
     "output_type": "execute_result"
    }
   ],
   "source": [
    "home_features_dict"
   ]
  },
  {
   "cell_type": "code",
   "execution_count": null,
   "metadata": {},
   "outputs": [],
   "source": []
  }
 ],
 "metadata": {
  "kernelspec": {
   "display_name": "Python 3",
   "language": "python",
   "name": "python3"
  },
  "language_info": {
   "codemirror_mode": {
    "name": "ipython",
    "version": 3
   },
   "file_extension": ".py",
   "mimetype": "text/x-python",
   "name": "python",
   "nbconvert_exporter": "python",
   "pygments_lexer": "ipython3",
   "version": "3.7.0"
  }
 },
 "nbformat": 4,
 "nbformat_minor": 2
}
